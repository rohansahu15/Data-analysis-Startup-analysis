{
 "cells": [
  {
   "cell_type": "code",
   "execution_count": 432,
   "metadata": {},
   "outputs": [],
   "source": [
    "import numpy as np\n",
    "import pandas as pd\n",
    "import matplotlib.pyplot as plt\n",
    "import csv\n",
    "import operator"
   ]
  },
  {
   "cell_type": "code",
   "execution_count": 433,
   "metadata": {},
   "outputs": [],
   "source": [
    "path = 'startup_funding.csv'"
   ]
  },
  {
   "cell_type": "code",
   "execution_count": 434,
   "metadata": {},
   "outputs": [],
   "source": [
    "df = pd.read_csv(path)"
   ]
  },
  {
   "cell_type": "code",
   "execution_count": 435,
   "metadata": {},
   "outputs": [],
   "source": [
    "test1 = df.copy()"
   ]
  },
  {
   "cell_type": "code",
   "execution_count": 436,
   "metadata": {},
   "outputs": [],
   "source": [
    "#filtering na\n",
    "test1.dropna(inplace = True, subset = ['CityLocation'])\n",
    "test1.reset_index(drop = True, inplace = True)"
   ]
  },
  {
   "cell_type": "code",
   "execution_count": 437,
   "metadata": {},
   "outputs": [],
   "source": [
    "#function to split indian cities from string\n",
    "def ind_city(city):\n",
    "    return city.split('/')[0].strip()"
   ]
  },
  {
   "cell_type": "code",
   "execution_count": 438,
   "metadata": {},
   "outputs": [],
   "source": [
    "#replacing the wrong written city\n",
    "test1['CityLocation'].replace(\"bangalore\", \"Bangalore\", inplace = True)\n",
    "test1['CityLocation'].replace(\"Delhi\", \"New Delhi\", inplace = True)\n",
    "test1['CityLocation'].replace(\"SFO / Bangalor\", \"Bangalore\", inplace = True)\n",
    "test1['CityLocation'].replace(\"Seattle / Bangalore\", \"Bangalore\", inplace = True)"
   ]
  },
  {
   "cell_type": "code",
   "execution_count": 439,
   "metadata": {},
   "outputs": [],
   "source": [
    "#filtering city\n",
    "test1['CityLocation'] = test1['CityLocation'].apply(ind_city)"
   ]
  },
  {
   "cell_type": "code",
   "execution_count": 440,
   "metadata": {},
   "outputs": [],
   "source": [
    "#filtering the cities on the basis of given conditions\n",
    "test1 = test1[(test1['CityLocation'] == \"Bangalore\") | (test1['CityLocation'] == \"Mumbai\") | (test1['CityLocation'] == \"Gurgaon\") | (test1['CityLocation'] == \"Noida\") | (test1['CityLocation'] == \"New Delhi\")]"
   ]
  },
  {
   "cell_type": "code",
   "execution_count": 441,
   "metadata": {},
   "outputs": [
    {
     "data": {
      "text/html": [
       "<div>\n",
       "<style scoped>\n",
       "    .dataframe tbody tr th:only-of-type {\n",
       "        vertical-align: middle;\n",
       "    }\n",
       "\n",
       "    .dataframe tbody tr th {\n",
       "        vertical-align: top;\n",
       "    }\n",
       "\n",
       "    .dataframe thead th {\n",
       "        text-align: right;\n",
       "    }\n",
       "</style>\n",
       "<table border=\"1\" class=\"dataframe\">\n",
       "  <thead>\n",
       "    <tr style=\"text-align: right;\">\n",
       "      <th></th>\n",
       "      <th>SNo</th>\n",
       "      <th>Date</th>\n",
       "      <th>StartupName</th>\n",
       "      <th>IndustryVertical</th>\n",
       "      <th>SubVertical</th>\n",
       "      <th>CityLocation</th>\n",
       "      <th>InvestorsName</th>\n",
       "      <th>InvestmentType</th>\n",
       "      <th>AmountInUSD</th>\n",
       "      <th>Remarks</th>\n",
       "    </tr>\n",
       "  </thead>\n",
       "  <tbody>\n",
       "    <tr>\n",
       "      <th>0</th>\n",
       "      <td>0</td>\n",
       "      <td>01/08/2017</td>\n",
       "      <td>TouchKin</td>\n",
       "      <td>Technology</td>\n",
       "      <td>Predictive Care Platform</td>\n",
       "      <td>Bangalore</td>\n",
       "      <td>Kae Capital</td>\n",
       "      <td>Private Equity</td>\n",
       "      <td>1,300,000</td>\n",
       "      <td>NaN</td>\n",
       "    </tr>\n",
       "    <tr>\n",
       "      <th>1</th>\n",
       "      <td>1</td>\n",
       "      <td>02/08/2017</td>\n",
       "      <td>Ethinos</td>\n",
       "      <td>Technology</td>\n",
       "      <td>Digital Marketing Agency</td>\n",
       "      <td>Mumbai</td>\n",
       "      <td>Triton Investment Advisors</td>\n",
       "      <td>Private Equity</td>\n",
       "      <td>NaN</td>\n",
       "      <td>NaN</td>\n",
       "    </tr>\n",
       "    <tr>\n",
       "      <th>2</th>\n",
       "      <td>2</td>\n",
       "      <td>02/08/2017</td>\n",
       "      <td>Leverage Edu</td>\n",
       "      <td>Consumer Internet</td>\n",
       "      <td>Online platform for Higher Education Services</td>\n",
       "      <td>New Delhi</td>\n",
       "      <td>Kashyap Deorah, Anand Sankeshwar, Deepak Jain,...</td>\n",
       "      <td>Seed Funding</td>\n",
       "      <td>NaN</td>\n",
       "      <td>NaN</td>\n",
       "    </tr>\n",
       "    <tr>\n",
       "      <th>3</th>\n",
       "      <td>3</td>\n",
       "      <td>02/08/2017</td>\n",
       "      <td>Zepo</td>\n",
       "      <td>Consumer Internet</td>\n",
       "      <td>DIY Ecommerce platform</td>\n",
       "      <td>Mumbai</td>\n",
       "      <td>Kunal Shah, LetsVenture, Anupam Mittal, Hetal ...</td>\n",
       "      <td>Seed Funding</td>\n",
       "      <td>500,000</td>\n",
       "      <td>NaN</td>\n",
       "    </tr>\n",
       "    <tr>\n",
       "      <th>5</th>\n",
       "      <td>5</td>\n",
       "      <td>01/07/2017</td>\n",
       "      <td>Billion Loans</td>\n",
       "      <td>Consumer Internet</td>\n",
       "      <td>Peer to Peer Lending platform</td>\n",
       "      <td>Bangalore</td>\n",
       "      <td>Reliance Corporate Advisory Services Ltd</td>\n",
       "      <td>Seed Funding</td>\n",
       "      <td>1,000,000</td>\n",
       "      <td>NaN</td>\n",
       "    </tr>\n",
       "    <tr>\n",
       "      <th>7</th>\n",
       "      <td>7</td>\n",
       "      <td>04/07/2017</td>\n",
       "      <td>Droom</td>\n",
       "      <td>eCommerce</td>\n",
       "      <td>Online marketplace for automobiles</td>\n",
       "      <td>Gurgaon</td>\n",
       "      <td>Asset Management (Asia) Ltd, Digital Garage Inc</td>\n",
       "      <td>Private Equity</td>\n",
       "      <td>20,000,000</td>\n",
       "      <td>NaN</td>\n",
       "    </tr>\n",
       "    <tr>\n",
       "      <th>8</th>\n",
       "      <td>8</td>\n",
       "      <td>05/07/2017</td>\n",
       "      <td>Jumbotail</td>\n",
       "      <td>eCommerce</td>\n",
       "      <td>online marketplace for food and grocery</td>\n",
       "      <td>Bangalore</td>\n",
       "      <td>Kalaari Capital, Nexus India Capital Advisors</td>\n",
       "      <td>Private Equity</td>\n",
       "      <td>8,500,000</td>\n",
       "      <td>NaN</td>\n",
       "    </tr>\n",
       "    <tr>\n",
       "      <th>9</th>\n",
       "      <td>9</td>\n",
       "      <td>05/07/2017</td>\n",
       "      <td>Moglix</td>\n",
       "      <td>eCommerce</td>\n",
       "      <td>B2B marketplace for Industrial products</td>\n",
       "      <td>Noida</td>\n",
       "      <td>International Finance Corporation, Rocketship,...</td>\n",
       "      <td>Private Equity</td>\n",
       "      <td>12,000,000</td>\n",
       "      <td>NaN</td>\n",
       "    </tr>\n",
       "    <tr>\n",
       "      <th>10</th>\n",
       "      <td>10</td>\n",
       "      <td>05/07/2017</td>\n",
       "      <td>Timesaverz</td>\n",
       "      <td>Consumer Internet</td>\n",
       "      <td>Hyperlocal home services provider</td>\n",
       "      <td>Mumbai</td>\n",
       "      <td>BCCL</td>\n",
       "      <td>Private Equity</td>\n",
       "      <td>1,000,000</td>\n",
       "      <td>NaN</td>\n",
       "    </tr>\n",
       "    <tr>\n",
       "      <th>11</th>\n",
       "      <td>11</td>\n",
       "      <td>06/07/2017</td>\n",
       "      <td>Minjar</td>\n",
       "      <td>Technology</td>\n",
       "      <td>Cloud Solutions provider</td>\n",
       "      <td>Bangalore</td>\n",
       "      <td>Blume Ventures, Contrarian Capital India Partn...</td>\n",
       "      <td>Seed Funding</td>\n",
       "      <td>NaN</td>\n",
       "      <td>NaN</td>\n",
       "    </tr>\n",
       "    <tr>\n",
       "      <th>12</th>\n",
       "      <td>12</td>\n",
       "      <td>06/07/2017</td>\n",
       "      <td>MyCity4kids</td>\n",
       "      <td>Consumer Internet</td>\n",
       "      <td>parenting blog and kids’ events discovery plat...</td>\n",
       "      <td>Gurgaon</td>\n",
       "      <td>NaN</td>\n",
       "      <td>Seed Funding</td>\n",
       "      <td>NaN</td>\n",
       "      <td>NaN</td>\n",
       "    </tr>\n",
       "    <tr>\n",
       "      <th>13</th>\n",
       "      <td>13</td>\n",
       "      <td>07/07/2017</td>\n",
       "      <td>Clip App</td>\n",
       "      <td>Consumer Internet</td>\n",
       "      <td>Digital Media Video platform</td>\n",
       "      <td>Bangalore</td>\n",
       "      <td>India Quotient, Shunwei Capital</td>\n",
       "      <td>Seed Funding</td>\n",
       "      <td>1,000,000</td>\n",
       "      <td>NaN</td>\n",
       "    </tr>\n",
       "    <tr>\n",
       "      <th>14</th>\n",
       "      <td>14</td>\n",
       "      <td>07/07/2017</td>\n",
       "      <td>Upwardly.in</td>\n",
       "      <td>Consumer Internet</td>\n",
       "      <td>MF investment platform</td>\n",
       "      <td>Bangalore</td>\n",
       "      <td>Sreeram Iyer, Suvo Sarkar, Anita Gupta, Likemi...</td>\n",
       "      <td>Seed Funding</td>\n",
       "      <td>NaN</td>\n",
       "      <td>NaN</td>\n",
       "    </tr>\n",
       "    <tr>\n",
       "      <th>17</th>\n",
       "      <td>17</td>\n",
       "      <td>11/07/2017</td>\n",
       "      <td>Flickstree</td>\n",
       "      <td>Consumer Internet</td>\n",
       "      <td>Video Content Discovery Platform</td>\n",
       "      <td>Mumbai</td>\n",
       "      <td>Venture Catalysts, Sourav Ganguly, Ankit Adity...</td>\n",
       "      <td>Seed Funding</td>\n",
       "      <td>464,000</td>\n",
       "      <td>NaN</td>\n",
       "    </tr>\n",
       "    <tr>\n",
       "      <th>18</th>\n",
       "      <td>18</td>\n",
       "      <td>11/07/2017</td>\n",
       "      <td>Design Cafe</td>\n",
       "      <td>Consumer Internet</td>\n",
       "      <td>Online Interior Design platform</td>\n",
       "      <td>Bangalore</td>\n",
       "      <td>Fireside Ventures, Apurva Salarpuria, Sidharth...</td>\n",
       "      <td>Seed Funding</td>\n",
       "      <td>NaN</td>\n",
       "      <td>NaN</td>\n",
       "    </tr>\n",
       "    <tr>\n",
       "      <th>19</th>\n",
       "      <td>19</td>\n",
       "      <td>12/07/2017</td>\n",
       "      <td>Innoviti</td>\n",
       "      <td>Technology</td>\n",
       "      <td>Digital payments solutions</td>\n",
       "      <td>Bangalore</td>\n",
       "      <td>SBI-FMO Fund, Bessemer Venture Partners, Catam...</td>\n",
       "      <td>Private Equity</td>\n",
       "      <td>18,500,000</td>\n",
       "      <td>NaN</td>\n",
       "    </tr>\n",
       "    <tr>\n",
       "      <th>21</th>\n",
       "      <td>21</td>\n",
       "      <td>12/07/2017</td>\n",
       "      <td>Bottr.me</td>\n",
       "      <td>Technology</td>\n",
       "      <td>Chatbot creation tool</td>\n",
       "      <td>Bangalore</td>\n",
       "      <td>500 Startups, Purvi Capital, Rajan Anandan, Ab...</td>\n",
       "      <td>Seed Funding</td>\n",
       "      <td>NaN</td>\n",
       "      <td>NaN</td>\n",
       "    </tr>\n",
       "    <tr>\n",
       "      <th>23</th>\n",
       "      <td>23</td>\n",
       "      <td>14/07/2017</td>\n",
       "      <td>QwikSpec</td>\n",
       "      <td>Technology</td>\n",
       "      <td>Construction site operations and analytics pla...</td>\n",
       "      <td>Bangalore</td>\n",
       "      <td>Brigade Innovations LLP, TV Mohandas Pai, Suha...</td>\n",
       "      <td>Seed Funding</td>\n",
       "      <td>540,000</td>\n",
       "      <td>NaN</td>\n",
       "    </tr>\n",
       "    <tr>\n",
       "      <th>24</th>\n",
       "      <td>24</td>\n",
       "      <td>14/07/2017</td>\n",
       "      <td>Chumbak</td>\n",
       "      <td>eCommerce</td>\n",
       "      <td>Designer consumer products Marketplace</td>\n",
       "      <td>Bangalore</td>\n",
       "      <td>Blacksoil Capital Pvt. Ltd</td>\n",
       "      <td>Private Equity</td>\n",
       "      <td>1,700,000</td>\n",
       "      <td>NaN</td>\n",
       "    </tr>\n",
       "    <tr>\n",
       "      <th>25</th>\n",
       "      <td>25</td>\n",
       "      <td>17/07/2017</td>\n",
       "      <td>Increff</td>\n",
       "      <td>Technology</td>\n",
       "      <td>Sales Solutions for Fashion Brands</td>\n",
       "      <td>Bangalore</td>\n",
       "      <td>Sequoia Capital, Grey Orange, Rajesh Ramaiah, ...</td>\n",
       "      <td>Seed Funding</td>\n",
       "      <td>2,000,000</td>\n",
       "      <td>NaN</td>\n",
       "    </tr>\n",
       "  </tbody>\n",
       "</table>\n",
       "</div>"
      ],
      "text/plain": [
       "    SNo        Date    StartupName   IndustryVertical  \\\n",
       "0     0  01/08/2017       TouchKin         Technology   \n",
       "1     1  02/08/2017        Ethinos         Technology   \n",
       "2     2  02/08/2017   Leverage Edu  Consumer Internet   \n",
       "3     3  02/08/2017           Zepo  Consumer Internet   \n",
       "5     5  01/07/2017  Billion Loans  Consumer Internet   \n",
       "7     7  04/07/2017          Droom          eCommerce   \n",
       "8     8  05/07/2017      Jumbotail          eCommerce   \n",
       "9     9  05/07/2017         Moglix          eCommerce   \n",
       "10   10  05/07/2017     Timesaverz  Consumer Internet   \n",
       "11   11  06/07/2017         Minjar         Technology   \n",
       "12   12  06/07/2017    MyCity4kids  Consumer Internet   \n",
       "13   13  07/07/2017       Clip App  Consumer Internet   \n",
       "14   14  07/07/2017    Upwardly.in  Consumer Internet   \n",
       "17   17  11/07/2017     Flickstree  Consumer Internet   \n",
       "18   18  11/07/2017    Design Cafe  Consumer Internet   \n",
       "19   19  12/07/2017       Innoviti         Technology   \n",
       "21   21  12/07/2017       Bottr.me         Technology   \n",
       "23   23  14/07/2017       QwikSpec         Technology   \n",
       "24   24  14/07/2017        Chumbak          eCommerce   \n",
       "25   25  17/07/2017        Increff         Technology   \n",
       "\n",
       "                                          SubVertical CityLocation  \\\n",
       "0                            Predictive Care Platform    Bangalore   \n",
       "1                            Digital Marketing Agency       Mumbai   \n",
       "2       Online platform for Higher Education Services    New Delhi   \n",
       "3                              DIY Ecommerce platform       Mumbai   \n",
       "5                       Peer to Peer Lending platform    Bangalore   \n",
       "7                  Online marketplace for automobiles      Gurgaon   \n",
       "8             online marketplace for food and grocery    Bangalore   \n",
       "9             B2B marketplace for Industrial products        Noida   \n",
       "10                  Hyperlocal home services provider       Mumbai   \n",
       "11                           Cloud Solutions provider    Bangalore   \n",
       "12  parenting blog and kids’ events discovery plat...      Gurgaon   \n",
       "13                       Digital Media Video platform    Bangalore   \n",
       "14                             MF investment platform    Bangalore   \n",
       "17                   Video Content Discovery Platform       Mumbai   \n",
       "18                    Online Interior Design platform    Bangalore   \n",
       "19                         Digital payments solutions    Bangalore   \n",
       "21                              Chatbot creation tool    Bangalore   \n",
       "23  Construction site operations and analytics pla...    Bangalore   \n",
       "24             Designer consumer products Marketplace    Bangalore   \n",
       "25                 Sales Solutions for Fashion Brands    Bangalore   \n",
       "\n",
       "                                        InvestorsName  InvestmentType  \\\n",
       "0                                         Kae Capital  Private Equity   \n",
       "1                          Triton Investment Advisors  Private Equity   \n",
       "2   Kashyap Deorah, Anand Sankeshwar, Deepak Jain,...    Seed Funding   \n",
       "3   Kunal Shah, LetsVenture, Anupam Mittal, Hetal ...    Seed Funding   \n",
       "5            Reliance Corporate Advisory Services Ltd    Seed Funding   \n",
       "7     Asset Management (Asia) Ltd, Digital Garage Inc  Private Equity   \n",
       "8       Kalaari Capital, Nexus India Capital Advisors  Private Equity   \n",
       "9   International Finance Corporation, Rocketship,...  Private Equity   \n",
       "10                                               BCCL  Private Equity   \n",
       "11  Blume Ventures, Contrarian Capital India Partn...    Seed Funding   \n",
       "12                                                NaN    Seed Funding   \n",
       "13                    India Quotient, Shunwei Capital    Seed Funding   \n",
       "14  Sreeram Iyer, Suvo Sarkar, Anita Gupta, Likemi...    Seed Funding   \n",
       "17  Venture Catalysts, Sourav Ganguly, Ankit Adity...    Seed Funding   \n",
       "18  Fireside Ventures, Apurva Salarpuria, Sidharth...    Seed Funding   \n",
       "19  SBI-FMO Fund, Bessemer Venture Partners, Catam...  Private Equity   \n",
       "21  500 Startups, Purvi Capital, Rajan Anandan, Ab...    Seed Funding   \n",
       "23  Brigade Innovations LLP, TV Mohandas Pai, Suha...    Seed Funding   \n",
       "24                         Blacksoil Capital Pvt. Ltd  Private Equity   \n",
       "25  Sequoia Capital, Grey Orange, Rajesh Ramaiah, ...    Seed Funding   \n",
       "\n",
       "   AmountInUSD Remarks  \n",
       "0    1,300,000     NaN  \n",
       "1          NaN     NaN  \n",
       "2          NaN     NaN  \n",
       "3      500,000     NaN  \n",
       "5    1,000,000     NaN  \n",
       "7   20,000,000     NaN  \n",
       "8    8,500,000     NaN  \n",
       "9   12,000,000     NaN  \n",
       "10   1,000,000     NaN  \n",
       "11         NaN     NaN  \n",
       "12         NaN     NaN  \n",
       "13   1,000,000     NaN  \n",
       "14         NaN     NaN  \n",
       "17     464,000     NaN  \n",
       "18         NaN     NaN  \n",
       "19  18,500,000     NaN  \n",
       "21         NaN     NaN  \n",
       "23     540,000     NaN  \n",
       "24   1,700,000     NaN  \n",
       "25   2,000,000     NaN  "
      ]
     },
     "execution_count": 441,
     "metadata": {},
     "output_type": "execute_result"
    }
   ],
   "source": [
    "test1.head(20)"
   ]
  },
  {
   "cell_type": "code",
   "execution_count": 442,
   "metadata": {},
   "outputs": [],
   "source": [
    "#extracting the cities and their counts\n",
    "temp = test1['CityLocation'].value_counts()\n",
    "city = temp.index\n",
    "No_Of_Funding = temp.values"
   ]
  },
  {
   "cell_type": "code",
   "execution_count": 443,
   "metadata": {},
   "outputs": [
    {
     "name": "stdout",
     "output_type": "stream",
     "text": [
      "City where most number of funding is done among Bangalore, Mumbai and NCR is ' Bangalore '.\n"
     ]
    }
   ],
   "source": [
    "#printing the city where most number of funding is Done\n",
    "print(\"City where most number of funding is done among Bangalore, Mumbai and NCR is '\",city[0],\"'.\")"
   ]
  },
  {
   "cell_type": "code",
   "execution_count": 444,
   "metadata": {
    "scrolled": false
   },
   "outputs": [
    {
     "data": {
      "image/png": "[encoded data removed]",
      "text/plain": [
       "<Figure size 640x480 with 1 Axes>"
      ]
     },
     "metadata": {},
     "output_type": "display_data"
    },
    {
     "data": {
      "text/html": [
       "<div>\n",
       "<style scoped>\n",
       "    .dataframe tbody tr th:only-of-type {\n",
       "        vertical-align: middle;\n",
       "    }\n",
       "\n",
       "    .dataframe tbody tr th {\n",
       "        vertical-align: top;\n",
       "    }\n",
       "\n",
       "    .dataframe thead th {\n",
       "        text-align: right;\n",
       "    }\n",
       "</style>\n",
       "<table border=\"1\" class=\"dataframe\">\n",
       "  <thead>\n",
       "    <tr style=\"text-align: right;\">\n",
       "      <th></th>\n",
       "      <th>Name Of City</th>\n",
       "      <th>Number Of Fundings</th>\n",
       "    </tr>\n",
       "  </thead>\n",
       "  <tbody>\n",
       "    <tr>\n",
       "      <th>0</th>\n",
       "      <td>Bangalore</td>\n",
       "      <td>636</td>\n",
       "    </tr>\n",
       "    <tr>\n",
       "      <th>1</th>\n",
       "      <td>Mumbai</td>\n",
       "      <td>449</td>\n",
       "    </tr>\n",
       "    <tr>\n",
       "      <th>2</th>\n",
       "      <td>New Delhi</td>\n",
       "      <td>389</td>\n",
       "    </tr>\n",
       "    <tr>\n",
       "      <th>3</th>\n",
       "      <td>Gurgaon</td>\n",
       "      <td>241</td>\n",
       "    </tr>\n",
       "    <tr>\n",
       "      <th>4</th>\n",
       "      <td>Noida</td>\n",
       "      <td>79</td>\n",
       "    </tr>\n",
       "  </tbody>\n",
       "</table>\n",
       "</div>"
      ],
      "text/plain": [
       "  Name Of City  Number Of Fundings\n",
       "0    Bangalore                 636\n",
       "1       Mumbai                 449\n",
       "2    New Delhi                 389\n",
       "3      Gurgaon                 241\n",
       "4        Noida                  79"
      ]
     },
     "execution_count": 444,
     "metadata": {},
     "output_type": "execute_result"
    }
   ],
   "source": [
    "#bar Graph\n",
    "plt.bar(city, No_Of_Funding, color = ['green','cyan','yellow'], width = 0.8)\n",
    "plt.xlabel(\"City\")\n",
    "plt.xticks(rotation = 40)\n",
    "plt.ylabel(\"Number Of Fundings\")\n",
    "plt.title(\"City vs Number Of Fundings\")\n",
    "plt.show()\n",
    "li = list(zip(city, No_Of_Funding))\n",
    "\n",
    "#build pandas dataframe for the city and corresponding investments\n",
    "freq = pd.DataFrame(li, columns = [\"Name Of City\", \"Number Of Fundings\"])\n",
    "freq"
   ]
  },
  {
   "cell_type": "code",
   "execution_count": 445,
   "metadata": {},
   "outputs": [],
   "source": [
    "dic = dict()"
   ]
  },
  {
   "cell_type": "code",
   "execution_count": 446,
   "metadata": {},
   "outputs": [],
   "source": [
    "test2 = df.copy()"
   ]
  },
  {
   "cell_type": "code",
   "execution_count": 447,
   "metadata": {},
   "outputs": [],
   "source": [
    "test2.dropna(inplace = True, subset = ['Date'])"
   ]
  },
  {
   "cell_type": "code",
   "execution_count": 448,
   "metadata": {},
   "outputs": [
    {
     "data": {
      "text/plain": [
       "0       01/08/2017\n",
       "1       02/08/2017\n",
       "2       02/08/2017\n",
       "3       02/08/2017\n",
       "4       02/08/2017\n",
       "           ...    \n",
       "2367    29/01/2015\n",
       "2368    29/01/2015\n",
       "2369    30/01/2015\n",
       "2370    30/01/2015\n",
       "2371    31/01/2015\n",
       "Name: Date, Length: 2372, dtype: object"
      ]
     },
     "execution_count": 448,
     "metadata": {},
     "output_type": "execute_result"
    }
   ],
   "source": [
    "test2['Date']"
   ]
  },
  {
   "cell_type": "code",
   "execution_count": 449,
   "metadata": {},
   "outputs": [
    {
     "data": {
      "text/plain": [
       "2372"
      ]
     },
     "execution_count": 449,
     "metadata": {},
     "output_type": "execute_result"
    }
   ],
   "source": [
    "len(test2['Date'])"
   ]
  },
  {
   "cell_type": "code",
   "execution_count": 450,
   "metadata": {},
   "outputs": [],
   "source": [
    "year = []"
   ]
  },
  {
   "cell_type": "code",
   "execution_count": 451,
   "metadata": {},
   "outputs": [
    {
     "data": {
      "text/plain": [
       "2372"
      ]
     },
     "execution_count": 451,
     "metadata": {},
     "output_type": "execute_result"
    }
   ],
   "source": [
    "for i in range(0,len(test2['Date'])):\n",
    "    a = test2['Date'][i][::-1]\n",
    "    t = a[0:4]\n",
    "    ans = t[::-1]\n",
    "    year.append(ans)\n",
    "len(year)"
   ]
  },
  {
   "cell_type": "code",
   "execution_count": 452,
   "metadata": {},
   "outputs": [],
   "source": [
    "test2['Year'] = year"
   ]
  },
  {
   "cell_type": "code",
   "execution_count": 453,
   "metadata": {},
   "outputs": [],
   "source": [
    "check = test2.Year.isnull()"
   ]
  },
  {
   "cell_type": "code",
   "execution_count": 454,
   "metadata": {},
   "outputs": [
    {
     "name": "stdout",
     "output_type": "stream",
     "text": [
      "0\n"
     ]
    }
   ],
   "source": [
    "count = 0\n",
    "for i in range(0,len(check)):\n",
    "    if check[i]==True:\n",
    "        count+=0\n",
    "print(count)"
   ]
  },
  {
   "cell_type": "code",
   "execution_count": 455,
   "metadata": {},
   "outputs": [
    {
     "data": {
      "text/plain": [
       "0       2017\n",
       "1       2017\n",
       "2       2017\n",
       "3       2017\n",
       "4       2017\n",
       "        ... \n",
       "2367    2015\n",
       "2368    2015\n",
       "2369    2015\n",
       "2370    2015\n",
       "2371    2015\n",
       "Name: Year, Length: 2372, dtype: object"
      ]
     },
     "execution_count": 455,
     "metadata": {},
     "output_type": "execute_result"
    }
   ],
   "source": [
    "test2['Year']"
   ]
  },
  {
   "cell_type": "code",
   "execution_count": 456,
   "metadata": {},
   "outputs": [],
   "source": [
    "dic = dict()"
   ]
  },
  {
   "cell_type": "code",
   "execution_count": 457,
   "metadata": {},
   "outputs": [],
   "source": [
    "for i in test2['Year']:\n",
    "    #print(i)\n",
    "    if i in dic.keys():\n",
    "        dic[i]+=1\n",
    "    else:\n",
    "        dic[i] = 1"
   ]
  },
  {
   "cell_type": "code",
   "execution_count": 458,
   "metadata": {},
   "outputs": [
    {
     "name": "stdout",
     "output_type": "stream",
     "text": [
      "{'2017': 443, '2016': 993, '2015': 936}\n"
     ]
    }
   ],
   "source": [
    "print(dic)"
   ]
  },
  {
   "cell_type": "code",
   "execution_count": 459,
   "metadata": {},
   "outputs": [
    {
     "name": "stdout",
     "output_type": "stream",
     "text": [
      "['2017', '2016', '2015']\n",
      "[443, 993, 936]\n",
      "['2015', '2016', '2017']\n",
      "[936, 993, 443]\n"
     ]
    }
   ],
   "source": [
    "x = []\n",
    "y = []\n",
    "for i in dic.keys():\n",
    "    x.append(i)\n",
    "    y.append(dic[i])\n",
    "print(x)\n",
    "print(y)\n",
    "x = x[::-1]\n",
    "y = y[::-1]\n",
    "print(x)\n",
    "print(y)"
   ]
  },
  {
   "cell_type": "code",
   "execution_count": 460,
   "metadata": {},
   "outputs": [
    {
     "data": {
      "text/plain": [
       "[<matplotlib.lines.Line2D at 0x159ca18d690>]"
      ]
     },
     "execution_count": 460,
     "metadata": {},
     "output_type": "execute_result"
    },
    {
     "data": {
      "image/png": "[encoded data removed]",
      "text/plain": [
       "<Figure size 640x480 with 1 Axes>"
      ]
     },
     "metadata": {},
     "output_type": "display_data"
    }
   ],
   "source": [
    "\n",
    "plt.title(\"Trend of Fundings\")\n",
    "plt.xlabel(\"Year\")\n",
    "plt.ylabel(\"No. of fundings\")\n",
    "plt.plot(x,y,marker = 'o')"
   ]
  },
  {
   "cell_type": "code",
   "execution_count": 461,
   "metadata": {},
   "outputs": [
    {
     "data": {
      "text/html": [
       "<div>\n",
       "<style scoped>\n",
       "    .dataframe tbody tr th:only-of-type {\n",
       "        vertical-align: middle;\n",
       "    }\n",
       "\n",
       "    .dataframe tbody tr th {\n",
       "        vertical-align: top;\n",
       "    }\n",
       "\n",
       "    .dataframe thead th {\n",
       "        text-align: right;\n",
       "    }\n",
       "</style>\n",
       "<table border=\"1\" class=\"dataframe\">\n",
       "  <thead>\n",
       "    <tr style=\"text-align: right;\">\n",
       "      <th></th>\n",
       "      <th>Year</th>\n",
       "      <th>Number Of Fundings</th>\n",
       "    </tr>\n",
       "  </thead>\n",
       "  <tbody>\n",
       "    <tr>\n",
       "      <th>0</th>\n",
       "      <td>2015</td>\n",
       "      <td>936</td>\n",
       "    </tr>\n",
       "    <tr>\n",
       "      <th>1</th>\n",
       "      <td>2016</td>\n",
       "      <td>993</td>\n",
       "    </tr>\n",
       "    <tr>\n",
       "      <th>2</th>\n",
       "      <td>2017</td>\n",
       "      <td>443</td>\n",
       "    </tr>\n",
       "  </tbody>\n",
       "</table>\n",
       "</div>"
      ],
      "text/plain": [
       "   Year  Number Of Fundings\n",
       "0  2015                 936\n",
       "1  2016                 993\n",
       "2  2017                 443"
      ]
     },
     "execution_count": 461,
     "metadata": {},
     "output_type": "execute_result"
    }
   ],
   "source": [
    "li = list(zip(x,y))\n",
    "fundings = pd.DataFrame(li, columns = [\"Year\", \"Number Of Fundings\"])\n",
    "fundings"
   ]
  },
  {
   "cell_type": "code",
   "execution_count": 462,
   "metadata": {},
   "outputs": [],
   "source": [
    "test3 = df.copy()"
   ]
  },
  {
   "cell_type": "code",
   "execution_count": 463,
   "metadata": {},
   "outputs": [
    {
     "data": {
      "text/plain": [
       "0       Bangalore\n",
       "1          Mumbai\n",
       "2       New Delhi\n",
       "3          Mumbai\n",
       "4       Hyderabad\n",
       "          ...    \n",
       "2367          NaN\n",
       "2368          NaN\n",
       "2369          NaN\n",
       "2370          NaN\n",
       "2371          NaN\n",
       "Name: CityLocation, Length: 2372, dtype: object"
      ]
     },
     "execution_count": 463,
     "metadata": {},
     "output_type": "execute_result"
    }
   ],
   "source": [
    "test3['CityLocation']"
   ]
  },
  {
   "cell_type": "code",
   "execution_count": 464,
   "metadata": {},
   "outputs": [],
   "source": [
    "test3.dropna(inplace = True, subset = 'CityLocation')"
   ]
  },
  {
   "cell_type": "code",
   "execution_count": 465,
   "metadata": {},
   "outputs": [
    {
     "data": {
      "text/plain": [
       "0       Bangalore\n",
       "1          Mumbai\n",
       "2       New Delhi\n",
       "3          Mumbai\n",
       "4       Hyderabad\n",
       "          ...    \n",
       "2196    Bangalore\n",
       "2197    Bangalore\n",
       "2198    Bangalore\n",
       "2199      Chennai\n",
       "2200        Noida\n",
       "Name: CityLocation, Length: 2193, dtype: object"
      ]
     },
     "execution_count": 465,
     "metadata": {},
     "output_type": "execute_result"
    }
   ],
   "source": [
    "test3['CityLocation']"
   ]
  },
  {
   "cell_type": "code",
   "execution_count": 466,
   "metadata": {},
   "outputs": [],
   "source": [
    "city = []"
   ]
  },
  {
   "cell_type": "code",
   "execution_count": 467,
   "metadata": {},
   "outputs": [],
   "source": [
    "for i in test3['CityLocation']:\n",
    "    city.append(i)"
   ]
  },
  {
   "cell_type": "code",
   "execution_count": 468,
   "metadata": {},
   "outputs": [
    {
     "data": {
      "text/plain": [
       "['Bangalore',\n",
       " 'Mumbai',\n",
       " 'New Delhi',\n",
       " 'Mumbai',\n",
       " 'Hyderabad',\n",
       " 'Bangalore',\n",
       " 'Ahmedabad',\n",
       " 'Gurgaon',\n",
       " 'Bangalore',\n",
       " 'Noida',\n",
       " 'Mumbai',\n",
       " 'Bangalore',\n",
       " 'Gurgaon',\n",
       " 'Bangalore',\n",
       " 'Bangalore',\n",
       " 'Hyderabad',\n",
       " 'Pune',\n",
       " 'Mumbai',\n",
       " 'Bangalore',\n",
       " 'Bangalore',\n",
       " 'Hyderabad',\n",
       " 'Bangalore',\n",
       " 'Pune',\n",
       " 'Bangalore',\n",
       " 'Bangalore',\n",
       " 'Bangalore',\n",
       " 'Pune',\n",
       " 'Noida',\n",
       " 'Hyderabad',\n",
       " 'Kolkata',\n",
       " 'Bangalore',\n",
       " 'Bangalore',\n",
       " 'Bangalore',\n",
       " 'Bangalore',\n",
       " 'Gurgaon',\n",
       " 'Gurgaon',\n",
       " 'New Delhi',\n",
       " 'New Delhi',\n",
       " 'Bangalore',\n",
       " 'Bangalore',\n",
       " 'Bangalore',\n",
       " 'New Delhi',\n",
       " 'New Delhi',\n",
       " 'Bangalore',\n",
       " 'Gurgaon',\n",
       " 'Mumbai',\n",
       " 'Mumbai',\n",
       " 'bangalore',\n",
       " 'Bangalore',\n",
       " 'Bangalore',\n",
       " 'Mumbai',\n",
       " 'Mumbai',\n",
       " 'Gurgaon',\n",
       " 'Kolkata',\n",
       " 'Mumbai',\n",
       " 'Bangalore',\n",
       " 'New Delhi',\n",
       " 'New Delhi',\n",
       " 'Gurgaon',\n",
       " 'New Delhi',\n",
       " 'Mumbai',\n",
       " 'Hyderabad',\n",
       " 'Hyderabad',\n",
       " 'Bangalore',\n",
       " 'Bangalore',\n",
       " 'Mumbai',\n",
       " 'Hyderabad',\n",
       " 'Bangalore',\n",
       " 'Ahmedabad',\n",
       " 'Bangalore',\n",
       " 'New Delhi',\n",
       " 'Mumbai',\n",
       " 'Mumbai',\n",
       " 'New Delhi',\n",
       " 'Bangalore',\n",
       " 'Bangalore',\n",
       " 'Bangalore',\n",
       " 'Mumbai',\n",
       " 'Noida',\n",
       " 'Bangalore',\n",
       " 'Bangalore',\n",
       " 'Mumbai',\n",
       " 'Noida',\n",
       " 'Hyderabad',\n",
       " 'Gurgaon',\n",
       " 'New Delhi',\n",
       " 'Bangalore',\n",
       " 'Hyderabad',\n",
       " 'Bangalore',\n",
       " 'Mumbai',\n",
       " 'Mumbai',\n",
       " 'Bangalore',\n",
       " 'Hyderabad',\n",
       " 'Mumbai',\n",
       " 'Mumbai',\n",
       " 'Bangalore',\n",
       " 'Mumbai',\n",
       " 'Bangalore',\n",
       " 'Mumbai',\n",
       " 'Mumbai',\n",
       " 'Hyderabad',\n",
       " 'Bangalore',\n",
       " 'Noida',\n",
       " 'New Delhi',\n",
       " 'Bangalore',\n",
       " 'Pune',\n",
       " 'New Delhi',\n",
       " 'Mumbai',\n",
       " 'Bangalore',\n",
       " 'New Delhi',\n",
       " 'Mumbai',\n",
       " 'Bangalore',\n",
       " 'Gurgaon',\n",
       " 'Hyderabad',\n",
       " 'Gurgaon',\n",
       " 'Hyderabad',\n",
       " 'Bangalore',\n",
       " 'Mumbai',\n",
       " 'Bangalore',\n",
       " 'Bangalore',\n",
       " 'Bangalore',\n",
       " 'New Delhi',\n",
       " 'New Delhi',\n",
       " 'Mumbai',\n",
       " 'Hyderabad',\n",
       " 'Trivandrum',\n",
       " 'Bangalore',\n",
       " 'Gurgaon',\n",
       " 'New Delhi',\n",
       " 'Pune',\n",
       " 'New Delhi',\n",
       " 'Bangalore',\n",
       " 'Bangalore',\n",
       " 'New Delhi',\n",
       " 'Bangalore',\n",
       " 'Pune',\n",
       " 'Mumbai',\n",
       " 'New Delhi',\n",
       " 'Noida',\n",
       " 'Gurgaon',\n",
       " 'Bangalore',\n",
       " 'Bangalore',\n",
       " 'Pune',\n",
       " 'Mumbai',\n",
       " 'Mumbai',\n",
       " 'New Delhi',\n",
       " 'Bangalore',\n",
       " 'Mumbai',\n",
       " 'Bangalore',\n",
       " 'Bangalore',\n",
       " 'Bangalore',\n",
       " 'Bangalore',\n",
       " 'Mumbai',\n",
       " 'Mumbai',\n",
       " 'Chennai',\n",
       " 'Mumbai',\n",
       " 'Mumbai',\n",
       " 'Chandigarh',\n",
       " 'Bangalore',\n",
       " 'Bangalore',\n",
       " 'Hyderabad',\n",
       " 'New Delhi',\n",
       " 'New Delhi',\n",
       " 'Mumbai',\n",
       " 'Hyderabad',\n",
       " 'Gurgaon',\n",
       " 'New Delhi',\n",
       " 'Mumbai',\n",
       " 'Mumbai',\n",
       " 'Gurgaon',\n",
       " 'Bangalore',\n",
       " 'Mumbai',\n",
       " 'Noida',\n",
       " 'New Delhi',\n",
       " 'Mumbai',\n",
       " 'Bangalore',\n",
       " 'New Delhi',\n",
       " 'Mumbai',\n",
       " 'Bangalore',\n",
       " 'Kolkata',\n",
       " 'Gurgaon',\n",
       " 'Mumbai',\n",
       " 'Mumbai',\n",
       " 'Mumbai',\n",
       " 'Noida',\n",
       " 'Mumbai',\n",
       " 'Bangalore',\n",
       " 'Chennai',\n",
       " 'Bangalore',\n",
       " 'Bangalore',\n",
       " 'Pune',\n",
       " 'Ahmedabad',\n",
       " 'New Delhi',\n",
       " 'Mumbai',\n",
       " 'Mumbai',\n",
       " 'Bangalore',\n",
       " 'Bangalore',\n",
       " 'Bangalore',\n",
       " 'Gurgaon',\n",
       " 'Noida',\n",
       " 'Gurgaon',\n",
       " 'Mumbai',\n",
       " 'Mumbai',\n",
       " 'Gurgaon',\n",
       " 'Bangalore',\n",
       " 'Bangalore',\n",
       " 'Bangalore',\n",
       " 'Bangalore',\n",
       " 'New Delhi',\n",
       " 'New Delhi',\n",
       " 'Mumbai',\n",
       " 'Bangalore',\n",
       " 'Noida',\n",
       " 'Hyderabad',\n",
       " 'Mumbai',\n",
       " 'Gurgaon',\n",
       " 'Gurgaon',\n",
       " 'Bangalore',\n",
       " 'Jaipur',\n",
       " 'Gurgaon',\n",
       " 'New Delhi',\n",
       " 'Mumbai',\n",
       " 'Mumbai',\n",
       " 'New Delhi',\n",
       " 'New Delhi',\n",
       " 'Ahmedabad',\n",
       " 'New Delhi',\n",
       " 'Bangalore',\n",
       " 'Bangalore',\n",
       " 'New Delhi',\n",
       " 'Mumbai',\n",
       " 'Bangalore',\n",
       " 'Bangalore',\n",
       " 'Pune',\n",
       " 'Gurgaon',\n",
       " 'Mumbai',\n",
       " 'Bangalore',\n",
       " 'Gurgaon',\n",
       " 'Gurgaon',\n",
       " 'Mumbai',\n",
       " 'Bangalore',\n",
       " 'Mumbai',\n",
       " 'Chennai',\n",
       " 'New Delhi',\n",
       " 'Bangalore',\n",
       " 'Mumbai',\n",
       " 'Pune',\n",
       " 'Jaipur',\n",
       " 'Bangalore',\n",
       " 'New Delhi',\n",
       " 'Mumbai',\n",
       " 'Jaipur',\n",
       " 'Bangalore',\n",
       " 'Bangalore',\n",
       " 'Kolkata',\n",
       " 'New Delhi',\n",
       " 'Hyderabad',\n",
       " 'Chennai',\n",
       " 'Gurgaon',\n",
       " 'Vadodara',\n",
       " 'Chennai',\n",
       " 'Bangalore',\n",
       " 'Bangalore',\n",
       " 'Jaipur',\n",
       " 'Ahmedabad',\n",
       " 'Hyderabad',\n",
       " 'Bangalore',\n",
       " 'Mumbai',\n",
       " 'Mumbai',\n",
       " 'Gurgaon',\n",
       " 'Mumbai',\n",
       " 'Pune',\n",
       " 'Bangalore',\n",
       " 'Noida',\n",
       " 'New Delhi',\n",
       " 'Bangalore',\n",
       " 'Gurgaon',\n",
       " 'Chennai',\n",
       " 'Mumbai',\n",
       " 'Gurgaon',\n",
       " 'Bangalore',\n",
       " 'Mumbai',\n",
       " 'New Delhi',\n",
       " 'New Delhi',\n",
       " 'Bangalore',\n",
       " 'Bangalore',\n",
       " 'New Delhi',\n",
       " 'Hyderabad',\n",
       " 'Kolkata',\n",
       " 'Mumbai',\n",
       " 'Surat',\n",
       " 'New Delhi',\n",
       " 'Gurgaon',\n",
       " 'Gurgaon',\n",
       " 'Bangalore',\n",
       " 'Mumbai',\n",
       " 'Mumbai',\n",
       " 'New Delhi',\n",
       " 'Bangalore',\n",
       " 'Gurgaon',\n",
       " 'Pune',\n",
       " 'Bangalore',\n",
       " 'Bangalore',\n",
       " 'New Delhi',\n",
       " 'New Delhi',\n",
       " 'Mumbai',\n",
       " 'New Delhi',\n",
       " 'Gurgaon',\n",
       " 'Bangalore',\n",
       " 'Mumbai',\n",
       " 'Bangalore',\n",
       " 'Bangalore',\n",
       " 'Bangalore',\n",
       " 'Bangalore',\n",
       " 'Mumbai',\n",
       " 'Bangalore',\n",
       " 'Gurgaon',\n",
       " 'Mumbai',\n",
       " 'Mumbai',\n",
       " 'Bangalore',\n",
       " 'New Delhi',\n",
       " 'Bangalore',\n",
       " 'Pune',\n",
       " 'Pune',\n",
       " 'Hyderabad',\n",
       " 'Bangalore',\n",
       " 'Kolkata',\n",
       " 'Mumbai',\n",
       " 'Noida',\n",
       " 'Bangalore',\n",
       " 'Gurgaon',\n",
       " 'Mumbai',\n",
       " 'Noida',\n",
       " 'Gurgaon',\n",
       " 'Bangalore',\n",
       " 'Mumbai',\n",
       " 'Bangalore',\n",
       " 'Bangalore',\n",
       " 'Mumbai',\n",
       " 'Bangalore',\n",
       " 'Bangalore',\n",
       " 'Chennai',\n",
       " 'Gurgaon',\n",
       " 'New Delhi',\n",
       " 'Bangalore',\n",
       " 'Chennai',\n",
       " 'Mumbai',\n",
       " 'New Delhi',\n",
       " 'New Delhi',\n",
       " 'Bangalore',\n",
       " 'Missourie',\n",
       " 'Mumbai',\n",
       " 'Bangalore',\n",
       " 'Hyderabad',\n",
       " 'Bangalore',\n",
       " 'Bangalore',\n",
       " 'Bangalore',\n",
       " 'Pune',\n",
       " 'Mumbai',\n",
       " 'Gurgaon',\n",
       " 'Bangalore',\n",
       " 'Gurgaon',\n",
       " 'Bangalore',\n",
       " 'New Delhi',\n",
       " 'Mumbai',\n",
       " 'Noida',\n",
       " 'Bangalore',\n",
       " 'Gurgaon',\n",
       " 'Bangalore',\n",
       " 'New Delhi',\n",
       " 'Bangalore',\n",
       " 'Pune',\n",
       " 'Panaji',\n",
       " 'Mumbai',\n",
       " 'Gurgaon',\n",
       " 'Chennai',\n",
       " 'Bangalore',\n",
       " 'Bangalore',\n",
       " 'Mumbai',\n",
       " 'Mumbai',\n",
       " 'Chennai',\n",
       " 'Mumbai',\n",
       " 'Mumbai',\n",
       " 'Gurgaon',\n",
       " 'Bangalore',\n",
       " 'Bangalore',\n",
       " 'Bangalore',\n",
       " 'Gurgaon',\n",
       " 'Bangalore',\n",
       " 'Gurgaon',\n",
       " 'Mumbai',\n",
       " 'Bangalore',\n",
       " 'Bangalore',\n",
       " 'Bangalore',\n",
       " 'Bangalore',\n",
       " 'Bangalore',\n",
       " 'Bangalore',\n",
       " 'New Delhi',\n",
       " 'Mumbai',\n",
       " 'Bangalore',\n",
       " 'Bangalore',\n",
       " 'Bangalore',\n",
       " 'New Delhi',\n",
       " 'Gwalior',\n",
       " 'Bangalore',\n",
       " 'New Delhi',\n",
       " 'Gurgaon',\n",
       " 'New Delhi',\n",
       " 'Bangalore',\n",
       " 'Bangalore',\n",
       " 'Mumbai',\n",
       " 'Karur',\n",
       " 'Noida',\n",
       " 'Pune',\n",
       " 'Gurgaon',\n",
       " 'Mumbai',\n",
       " 'New Delhi',\n",
       " 'New Delhi',\n",
       " 'Pune',\n",
       " 'New Delhi',\n",
       " 'New Delhi',\n",
       " 'Bangalore',\n",
       " 'Mumbai',\n",
       " 'Bangalore',\n",
       " 'Hyderabad',\n",
       " 'Bangalore',\n",
       " 'Noida',\n",
       " 'Mumbai',\n",
       " 'Pune',\n",
       " 'New Delhi',\n",
       " 'Bangalore',\n",
       " 'Ahmedabad',\n",
       " 'Udupi',\n",
       " 'Ahmedabad',\n",
       " 'Chennai',\n",
       " 'Kochi',\n",
       " 'Mumbai',\n",
       " 'New Delhi',\n",
       " 'Mumbai',\n",
       " 'Bangalore',\n",
       " 'Mumbai',\n",
       " 'New Delhi',\n",
       " 'New Delhi',\n",
       " 'Noida',\n",
       " 'New Delhi',\n",
       " 'New Delhi',\n",
       " 'New Delhi',\n",
       " 'Bangalore',\n",
       " 'Mumbai',\n",
       " 'Indore',\n",
       " 'Bangalore',\n",
       " 'Mumbai',\n",
       " 'New Delhi',\n",
       " 'Gurgaon',\n",
       " 'Singapore',\n",
       " 'New Delhi',\n",
       " 'Mumbai',\n",
       " 'Bangalore',\n",
       " 'New Delhi',\n",
       " 'Bangalore',\n",
       " 'Bangalore',\n",
       " 'Mumbai',\n",
       " 'Gurgaon',\n",
       " 'New Delhi',\n",
       " 'Mumbai',\n",
       " 'Bangalore',\n",
       " 'Jaipur',\n",
       " 'Bangalore',\n",
       " 'New Delhi',\n",
       " 'Gurgaon',\n",
       " 'Bangalore',\n",
       " 'New Delhi',\n",
       " 'Gurgaon',\n",
       " 'Mumbai',\n",
       " 'Gurgaon',\n",
       " 'New Delhi',\n",
       " 'Gurgaon',\n",
       " 'New Delhi',\n",
       " 'Bangalore',\n",
       " 'Bangalore',\n",
       " 'Indore',\n",
       " 'Pune',\n",
       " 'Mumbai',\n",
       " 'Mumbai',\n",
       " 'Mumbai',\n",
       " 'Hyderabad',\n",
       " 'New Delhi',\n",
       " 'Bangalore',\n",
       " 'Bangalore',\n",
       " 'Mumbai',\n",
       " 'Kolkata',\n",
       " 'Bangalore',\n",
       " 'Bangalore',\n",
       " 'Mumbai',\n",
       " 'Bangalore',\n",
       " 'New Delhi',\n",
       " 'Chennai',\n",
       " 'Pune',\n",
       " 'New Delhi',\n",
       " 'Bangalore',\n",
       " 'Bangalore',\n",
       " 'Indore',\n",
       " 'New Delhi',\n",
       " 'Noida',\n",
       " 'New Delhi',\n",
       " 'Chennai',\n",
       " 'Bangalore',\n",
       " 'Mumbai',\n",
       " 'Gurgaon',\n",
       " 'Bangalore',\n",
       " 'Mumbai',\n",
       " 'Bangalore',\n",
       " 'New Delhi',\n",
       " 'Bangalore',\n",
       " 'New Delhi',\n",
       " 'New Delhi',\n",
       " 'Chennai',\n",
       " 'Bangalore',\n",
       " 'New Delhi',\n",
       " 'New Delhi',\n",
       " 'Chennai',\n",
       " 'Bangalore',\n",
       " 'Noida',\n",
       " 'Goa',\n",
       " 'Bangalore',\n",
       " 'New Delhi',\n",
       " 'Bangalore',\n",
       " 'Noida',\n",
       " 'New Delhi',\n",
       " 'Mumbai',\n",
       " 'Gurgaon',\n",
       " 'Mumbai',\n",
       " 'New Delhi',\n",
       " 'Gurgaon',\n",
       " 'New Delhi',\n",
       " 'Bangalore',\n",
       " 'Bangalore',\n",
       " 'Gurgaon',\n",
       " 'Singapore',\n",
       " 'Pune',\n",
       " 'Bangalore',\n",
       " 'Bangalore',\n",
       " 'Bangalore',\n",
       " 'Bangalore',\n",
       " 'Bangalore',\n",
       " 'New Delhi',\n",
       " 'New Delhi',\n",
       " 'Gurgaon',\n",
       " 'Mumbai',\n",
       " 'New Delhi',\n",
       " 'Mumbai',\n",
       " 'Mumbai',\n",
       " 'Gurgaon',\n",
       " 'Gurgaon',\n",
       " 'Mumbai',\n",
       " 'Bangalore',\n",
       " 'Mumbai',\n",
       " 'Bangalore',\n",
       " 'Bangalore',\n",
       " 'Mumbai',\n",
       " 'Bangalore',\n",
       " 'Mumbai',\n",
       " 'Bangalore',\n",
       " 'Indore',\n",
       " 'Bangalore',\n",
       " 'Mumbai',\n",
       " 'Gurgaon',\n",
       " 'Mumbai',\n",
       " 'Ahmedabad',\n",
       " 'Mumbai',\n",
       " 'Kolkata',\n",
       " 'Bangalore',\n",
       " 'Bangalore',\n",
       " 'Jaipur',\n",
       " 'Noida',\n",
       " 'New Delhi',\n",
       " 'Goa',\n",
       " 'Bangalore',\n",
       " 'Bangalore',\n",
       " 'Bangalore',\n",
       " 'Bangalore',\n",
       " 'Noida',\n",
       " 'Pune',\n",
       " 'Vadodara',\n",
       " 'Bangalore',\n",
       " 'Bangalore',\n",
       " 'Mumbai',\n",
       " 'Bangalore',\n",
       " 'Bangalore',\n",
       " 'Bangalore',\n",
       " 'Chennai',\n",
       " 'Gurgaon',\n",
       " 'Bangalore',\n",
       " 'Mumbai',\n",
       " 'Mumbai',\n",
       " 'Noida',\n",
       " 'Noida',\n",
       " 'Hyderabad',\n",
       " 'Pune',\n",
       " 'Mumbai',\n",
       " 'Gurgaon',\n",
       " 'Mumbai',\n",
       " 'Pune',\n",
       " 'Mumbai',\n",
       " 'Bangalore',\n",
       " 'Mumbai',\n",
       " 'Bangalore',\n",
       " 'Noida',\n",
       " 'Noida',\n",
       " 'Bangalore',\n",
       " 'Bangalore',\n",
       " 'Mumbai',\n",
       " 'Mumbai',\n",
       " 'Kolkata',\n",
       " 'New Delhi',\n",
       " 'Bangalore',\n",
       " 'Gurgaon',\n",
       " 'New Delhi',\n",
       " 'Noida',\n",
       " 'Agra',\n",
       " 'Bangalore',\n",
       " 'Ahmedabad',\n",
       " 'New Delhi',\n",
       " 'Bangalore',\n",
       " 'Hyderabad',\n",
       " 'Gurgaon',\n",
       " 'Mumbai',\n",
       " 'Bangalore',\n",
       " 'Bangalore',\n",
       " 'Hyderabad',\n",
       " 'Mumbai',\n",
       " 'Bangalore',\n",
       " 'New Delhi',\n",
       " 'Gurgaon',\n",
       " 'Mumbai',\n",
       " 'New Delhi',\n",
       " 'Mumbai',\n",
       " 'Pune',\n",
       " 'Noida',\n",
       " 'Bangalore',\n",
       " 'Bangalore',\n",
       " 'Bangalore',\n",
       " 'Mumbai',\n",
       " 'Bangalore',\n",
       " 'Mumbai',\n",
       " 'Noida',\n",
       " 'Mumbai',\n",
       " 'Bangalore',\n",
       " 'Gurgaon',\n",
       " 'Mumbai',\n",
       " 'Bangalore',\n",
       " 'Mumbai',\n",
       " 'New Delhi',\n",
       " 'Gurgaon',\n",
       " 'Gurgaon',\n",
       " 'New Delhi',\n",
       " 'Bangalore',\n",
       " 'Ahmedabad',\n",
       " 'Bangalore',\n",
       " 'Chennai',\n",
       " 'Bangalore',\n",
       " 'Bangalore',\n",
       " 'New Delhi',\n",
       " 'Chennai',\n",
       " 'Bangalore',\n",
       " 'Bangalore',\n",
       " 'Mumbai',\n",
       " 'Chennai',\n",
       " 'Kolkata',\n",
       " 'Hyderabad',\n",
       " 'New Delhi',\n",
       " 'Kochi',\n",
       " 'Mumbai',\n",
       " 'New Delhi',\n",
       " 'Chennai',\n",
       " 'Mumbai',\n",
       " 'New Delhi',\n",
       " 'Mumbai',\n",
       " 'Bangalore/ Bangkok',\n",
       " 'New Delhi',\n",
       " 'Bangalore',\n",
       " 'Gurgaon',\n",
       " 'Bangalore',\n",
       " 'Bangalore',\n",
       " 'Bangalore',\n",
       " 'Bangalore',\n",
       " 'Hubli',\n",
       " 'New Delhi',\n",
       " 'Noida',\n",
       " 'New Delhi',\n",
       " 'Mumbai',\n",
       " 'Pune',\n",
       " 'Mumbai',\n",
       " 'Noida',\n",
       " 'Bangalore',\n",
       " 'Delhi',\n",
       " 'Agra',\n",
       " 'Gurgaon',\n",
       " 'Kolkata',\n",
       " 'Bangalore',\n",
       " 'Bangalore',\n",
       " 'Gurgaon',\n",
       " 'Bangalore',\n",
       " 'Bangalore',\n",
       " 'Hyderabad',\n",
       " 'Gurgaon',\n",
       " 'Bangalore',\n",
       " 'New Delhi',\n",
       " 'Bangalore',\n",
       " 'Bangalore',\n",
       " 'Hyderabad',\n",
       " 'New Delhi',\n",
       " 'Bangalore',\n",
       " 'Vadodara',\n",
       " 'Mumbai',\n",
       " 'Ahmedabad',\n",
       " 'New Delhi',\n",
       " 'New Delhi',\n",
       " 'Bangalore',\n",
       " 'Bangalore',\n",
       " 'Bangalore',\n",
       " 'Pune',\n",
       " 'Chennai',\n",
       " 'Bangalore',\n",
       " 'Mumbai',\n",
       " 'Noida',\n",
       " 'New Delhi',\n",
       " 'Chennai',\n",
       " 'Bangalore',\n",
       " 'Mumbai',\n",
       " 'Ahmedabad',\n",
       " 'Indore',\n",
       " 'Hyderabad',\n",
       " 'Pune',\n",
       " 'New Delhi',\n",
       " 'Noida',\n",
       " 'Bangalore',\n",
       " 'Pune',\n",
       " 'Mumbai',\n",
       " 'Jaipur',\n",
       " 'Gurgaon',\n",
       " 'Bangalore',\n",
       " 'Pune',\n",
       " 'Bangalore',\n",
       " 'Pune',\n",
       " 'Noida',\n",
       " 'Bangalore',\n",
       " 'Mumbai',\n",
       " 'Chennai',\n",
       " 'Gurgaon',\n",
       " 'Mumbai',\n",
       " 'Bangalore',\n",
       " 'New Delhi',\n",
       " 'Bangalore',\n",
       " 'Kerala',\n",
       " 'New Delhi',\n",
       " 'Mumbai',\n",
       " 'Gurgaon',\n",
       " 'Mumbai',\n",
       " 'Bangalore',\n",
       " 'New Delhi',\n",
       " 'Bangalore',\n",
       " 'New Delhi',\n",
       " 'Bangalore',\n",
       " 'Mumbai',\n",
       " 'Mumbai',\n",
       " 'Hyderabad',\n",
       " 'Gurgaon',\n",
       " 'Gurgaon',\n",
       " 'Noida',\n",
       " 'Gurgaon',\n",
       " 'New Delhi',\n",
       " 'Bangalore',\n",
       " 'Gurgaon',\n",
       " 'New Delhi',\n",
       " 'New Delhi',\n",
       " 'Mumbai',\n",
       " 'Ahmedabad',\n",
       " 'Pune',\n",
       " 'Mumbai',\n",
       " 'Indore',\n",
       " 'Bangalore',\n",
       " 'Bangalore',\n",
       " 'Bangalore',\n",
       " 'Bangalore',\n",
       " 'Kozhikode',\n",
       " 'Mumbai',\n",
       " 'Bangalore',\n",
       " 'Chennai',\n",
       " 'Bangalore',\n",
       " 'Mumbai',\n",
       " 'Mumbai',\n",
       " 'New Delhi',\n",
       " 'New Delhi',\n",
       " 'Mumbai',\n",
       " 'New Delhi',\n",
       " 'New Delhi',\n",
       " 'Bangalore',\n",
       " 'Chandigarh',\n",
       " 'Bangalore',\n",
       " 'Gurgaon',\n",
       " 'Mumbai',\n",
       " 'Noida',\n",
       " 'Mumbai',\n",
       " 'Bangalore',\n",
       " 'Indore',\n",
       " 'Bangalore',\n",
       " 'Bangalore',\n",
       " 'Mumbai',\n",
       " 'Bangalore',\n",
       " 'Gurgaon',\n",
       " 'Gurgaon',\n",
       " 'Mumbai',\n",
       " 'Gurgaon',\n",
       " 'Mumbai',\n",
       " 'Bangalore',\n",
       " 'Noida',\n",
       " 'Chennai',\n",
       " 'Bangalore',\n",
       " 'Gurgaon',\n",
       " 'New Delhi',\n",
       " 'Bangalore',\n",
       " 'Bangalore',\n",
       " 'Bangalore',\n",
       " 'Mumbai',\n",
       " 'Mumbai',\n",
       " 'Mumbai',\n",
       " 'Bangalore',\n",
       " 'Hyderabad',\n",
       " 'Mumbai',\n",
       " 'New Delhi',\n",
       " 'Bangalore',\n",
       " 'Mumbai',\n",
       " 'Bangalore',\n",
       " 'Mumbai',\n",
       " 'Mumbai',\n",
       " 'US',\n",
       " 'Mumbai',\n",
       " 'Gurgaon',\n",
       " 'Mumbai',\n",
       " 'Mumbai',\n",
       " 'New Delhi',\n",
       " 'Ahmedabad',\n",
       " 'Chennai',\n",
       " 'Mumbai',\n",
       " 'New Delhi',\n",
       " 'Gurgaon',\n",
       " 'Mumbai',\n",
       " 'Bangalore',\n",
       " 'Mumbai',\n",
       " 'Mumbai',\n",
       " 'Gurgaon',\n",
       " 'Gurgaon',\n",
       " 'Gurgaon',\n",
       " 'New Delhi',\n",
       " 'Bangalore',\n",
       " 'Chandigarh',\n",
       " 'New Delhi',\n",
       " 'New Delhi',\n",
       " 'Chennai',\n",
       " 'Gurgaon',\n",
       " 'Bangalore',\n",
       " 'Bangalore',\n",
       " 'Bangalore',\n",
       " 'Gurgaon',\n",
       " 'Mumbai',\n",
       " 'Coimbatore',\n",
       " 'Pune',\n",
       " 'New Delhi',\n",
       " 'Pune',\n",
       " 'Bangalore',\n",
       " 'New Delhi',\n",
       " 'New Delhi',\n",
       " 'New Delhi',\n",
       " 'Mumbai',\n",
       " 'Pune',\n",
       " 'New Delhi',\n",
       " 'Mumbai',\n",
       " 'Mumbai',\n",
       " 'Pune',\n",
       " 'New Delhi',\n",
       " 'Noida',\n",
       " 'Bangalore',\n",
       " 'Gurgaon',\n",
       " 'Jaipur',\n",
       " 'Mumbai',\n",
       " 'Pune',\n",
       " 'New Delhi',\n",
       " 'Bangalore',\n",
       " 'Bangalore',\n",
       " 'Mumbai',\n",
       " 'Indore',\n",
       " 'Bangalore',\n",
       " 'New Delhi',\n",
       " 'New Delhi',\n",
       " 'Mumbai',\n",
       " 'Mumbai',\n",
       " 'Mumbai',\n",
       " 'Bangalore',\n",
       " 'Chennai',\n",
       " 'New Delhi',\n",
       " 'Hyderabad',\n",
       " 'Bangalore',\n",
       " 'Bangalore',\n",
       " 'Bangalore',\n",
       " 'Pune',\n",
       " 'Mumbai',\n",
       " 'Hyderabad',\n",
       " 'Mumbai',\n",
       " 'Mumbai',\n",
       " 'Gurgaon',\n",
       " 'Bangalore',\n",
       " 'Bangalore',\n",
       " 'Jaipur',\n",
       " 'Gurgaon',\n",
       " 'Siliguri',\n",
       " 'Pune',\n",
       " 'Mumbai',\n",
       " 'Mumbai',\n",
       " 'New Delhi',\n",
       " 'Gurgaon',\n",
       " 'Mumbai',\n",
       " 'Bangalore',\n",
       " 'New Delhi',\n",
       " 'New Delhi',\n",
       " 'Chennai',\n",
       " 'Jaipur',\n",
       " 'Mumbai',\n",
       " 'New Delhi',\n",
       " 'New Delhi',\n",
       " 'New Delhi',\n",
       " 'Bangalore',\n",
       " 'Pune',\n",
       " 'Bangalore',\n",
       " 'Vadodara',\n",
       " 'Bangalore',\n",
       " 'New Delhi',\n",
       " 'Gurgaon',\n",
       " 'Bangalore',\n",
       " 'USA',\n",
       " 'Bangalore',\n",
       " 'Mumbai',\n",
       " 'New Delhi',\n",
       " 'Bangalore',\n",
       " 'Bangalore',\n",
       " 'Bangalore',\n",
       " 'Bangalore',\n",
       " 'New Delhi',\n",
       " 'New Delhi',\n",
       " 'Ahmedabad',\n",
       " 'Mumbai',\n",
       " 'Bangalore',\n",
       " 'Mumbai',\n",
       " 'Noida',\n",
       " 'Bangalore',\n",
       " 'Mumbai',\n",
       " 'Bangalore',\n",
       " 'Chennai',\n",
       " 'Mumbai',\n",
       " 'Pune',\n",
       " 'New Delhi',\n",
       " 'Bangalore',\n",
       " 'Gurgaon',\n",
       " 'New Delhi',\n",
       " 'Mumbai',\n",
       " 'Bangalore',\n",
       " 'Bangalore',\n",
       " 'Mumbai',\n",
       " 'Mumbai',\n",
       " 'New Delhi',\n",
       " 'Bangalore',\n",
       " 'Bangalore',\n",
       " 'New Delhi',\n",
       " 'Bangalore',\n",
       " 'Gurgaon',\n",
       " 'Ahmedabad',\n",
       " 'Ahmedabad',\n",
       " 'New Delhi',\n",
       " 'Hyderabad',\n",
       " 'Bangalore',\n",
       " 'New Delhi',\n",
       " 'Kolkata',\n",
       " 'Mumbai',\n",
       " 'Mumbai',\n",
       " 'Mumbai',\n",
       " 'Bangalore',\n",
       " 'Bangalore',\n",
       " 'Gurgaon',\n",
       " 'Mumbai',\n",
       " 'New Delhi',\n",
       " 'Pune',\n",
       " 'Chennai',\n",
       " 'Gurgaon',\n",
       " 'New Delhi',\n",
       " 'Bangalore',\n",
       " 'Vadodara',\n",
       " 'Mumbai',\n",
       " 'Mumbai',\n",
       " 'Mumbai',\n",
       " 'New Delhi',\n",
       " ...]"
      ]
     },
     "execution_count": 468,
     "metadata": {},
     "output_type": "execute_result"
    }
   ],
   "source": [
    "city"
   ]
  },
  {
   "cell_type": "code",
   "execution_count": 469,
   "metadata": {},
   "outputs": [],
   "source": [
    "np_city = np.array(city)"
   ]
  },
  {
   "cell_type": "code",
   "execution_count": 470,
   "metadata": {},
   "outputs": [],
   "source": [
    "np_city = np_city[np_city != '']"
   ]
  },
  {
   "cell_type": "code",
   "execution_count": 471,
   "metadata": {},
   "outputs": [],
   "source": [
    "for i in range(len(np_city)):\n",
    "    if 'bangalore' in np_city[i]:\n",
    "        np_city[i]='Bangalore'\n",
    "    if np_city[i]=='Delhi':        \n",
    "        np_city[i]='New Delhi'"
   ]
  },
  {
   "cell_type": "code",
   "execution_count": 472,
   "metadata": {},
   "outputs": [],
   "source": [
    "dic=dict()\n",
    "for i in np_city:\n",
    "    if i in dic.keys():\n",
    "        dic[i]+=1\n",
    "    else:\n",
    "        dic[i]=1\n"
   ]
  },
  {
   "cell_type": "code",
   "execution_count": 473,
   "metadata": {},
   "outputs": [
    {
     "name": "stdout",
     "output_type": "stream",
     "text": [
      "{'Bangalore': 628, 'Mumbai': 446, 'New Delhi': 385, 'Hyderabad': 76, 'Ahmedabad': 35, 'Gurgaon': 240, 'Noida': 78, 'Pune': 84, 'Kolkata': 19, 'Trivandrum': 2, 'Chennai': 66, 'Chandigarh': 10, 'Jaipur': 25, 'Vadodara': 9, 'Surat': 1, 'Missourie': 1, 'Panaji': 1, 'Gwalior': 2, 'Karur': 1, 'Udupi': 2, 'Kochi': 2, 'Indore': 9, 'Singapore': 5, 'Goa': 7, 'Agra': 2, 'Bangalore/ Bangkok': 2, 'Hubli': 1, 'Kerala': 1, 'Kozhikode': 1, 'US': 1, 'Coimbatore': 3, 'Siliguri': 2, 'USA': 1, 'Lucknow': 1, 'Kanpur': 4, 'SFO / Bangalore': 1, 'London': 1, 'Seattle / Bangalore': 1, 'Pune/Seattle': 1, 'Pune / Dubai': 1, 'Bangalore / SFO': 2, 'Varanasi': 1, 'Bhopal': 2, 'New Delhi / US': 2, 'Mumbai / UK': 1, 'Jodhpur': 1, 'Hyderabad/USA': 1, 'Boston': 1, 'Bangalore / Palo Alto': 1, 'Mumbai / NY': 1, 'USA/India': 1, 'Goa/Hyderabad': 1, 'Noida / Singapore': 1, 'Belgaum': 1, 'Pune / US': 4, 'Chennai/ Singapore': 1, 'Pune / Singapore': 1, 'Bangalore / San Mateo': 1, 'New York/ India': 1, 'US/India': 1, 'Gurgaon / SFO': 1, 'Bangalore / USA': 1, 'New Delhi/ Houston': 1, 'Nagpur': 1, 'Mumbai / Global': 1, 'India / US': 1, 'Udaipur': 1, 'New Delhi / California': 1, 'Dallas / Hyderabad': 1}\n"
     ]
    }
   ],
   "source": [
    "print(dic)"
   ]
  },
  {
   "cell_type": "code",
   "execution_count": 474,
   "metadata": {},
   "outputs": [],
   "source": [
    "for i in range(len(np_city)) :\n",
    "        np_city[i]=np_city[i].split('/')[0].strip()"
   ]
  },
  {
   "cell_type": "code",
   "execution_count": 475,
   "metadata": {},
   "outputs": [
    {
     "name": "stdout",
     "output_type": "stream",
     "text": [
      "{'Bangalore': 635, 'Mumbai': 449, 'New Delhi': 389, 'Hyderabad': 77, 'Ahmedabad': 35, 'Gurgaon': 241, 'Noida': 79, 'Pune': 91, 'Kolkata': 19, 'Trivandrum': 2, 'Chennai': 67, 'Chandigarh': 10, 'Jaipur': 25, 'Vadodara': 9, 'Surat': 1, 'Missourie': 1, 'Panaji': 1, 'Gwalior': 2, 'Karur': 1, 'Udupi': 2, 'Kochi': 2, 'Indore': 9, 'Singapore': 5, 'Goa': 8, 'Agra': 2, 'Hubli': 1, 'Kerala': 1, 'Kozhikode': 1, 'US': 2, 'Coimbatore': 3, 'Siliguri': 2, 'USA': 2, 'Lucknow': 1, 'Kanpur': 4, 'SFO': 1, 'London': 1, 'Seattle': 1, 'Varanasi': 1, 'Bhopal': 2, 'Jodhpur': 1, 'Boston': 1, 'Belgaum': 1, 'New York': 1, 'Nagpur': 1, 'India': 1, 'Udaipur': 1, 'Dallas': 1}\n"
     ]
    }
   ],
   "source": [
    "dic=dict()\n",
    "for i in np_city:\n",
    "    if i in dic.keys():\n",
    "        dic[i]+=1\n",
    "    else:\n",
    "        dic[i]=1\n",
    "print(dic)"
   ]
  },
  {
   "cell_type": "code",
   "execution_count": 476,
   "metadata": {},
   "outputs": [],
   "source": [
    "x = []\n",
    "y = []\n"
   ]
  },
  {
   "cell_type": "code",
   "execution_count": 477,
   "metadata": {},
   "outputs": [
    {
     "name": "stdout",
     "output_type": "stream",
     "text": [
      "['Bangalore', 'Mumbai', 'New Delhi', 'Hyderabad', 'Ahmedabad', 'Gurgaon', 'Noida', 'Pune', 'Kolkata', 'Trivandrum', 'Chennai', 'Chandigarh', 'Jaipur', 'Vadodara', 'Surat', 'Missourie', 'Panaji', 'Gwalior', 'Karur', 'Udupi', 'Kochi', 'Indore', 'Singapore', 'Goa', 'Agra', 'Hubli', 'Kerala', 'Kozhikode', 'US', 'Coimbatore', 'Siliguri', 'USA', 'Lucknow', 'Kanpur', 'SFO', 'London', 'Seattle', 'Varanasi', 'Bhopal', 'Jodhpur', 'Boston', 'Belgaum', 'New York', 'Nagpur', 'India', 'Udaipur', 'Dallas'] [635, 449, 389, 77, 35, 241, 79, 91, 19, 2, 67, 10, 25, 9, 1, 1, 1, 2, 1, 2, 2, 9, 5, 8, 2, 1, 1, 1, 2, 3, 2, 2, 1, 4, 1, 1, 1, 1, 2, 1, 1, 1, 1, 1, 1, 1, 1]\n"
     ]
    }
   ],
   "source": [
    "for i in dic:\n",
    "    x.append(i)\n",
    "    y.append(dic[i])\n",
    "print(x,y)\n"
   ]
  },
  {
   "cell_type": "code",
   "execution_count": 478,
   "metadata": {},
   "outputs": [],
   "source": [
    "np_x = np.array(x)\n",
    "np_y = np.array(y)"
   ]
  },
  {
   "cell_type": "code",
   "execution_count": 479,
   "metadata": {},
   "outputs": [
    {
     "name": "stdout",
     "output_type": "stream",
     "text": [
      "['Dallas' 'Kozhikode' 'Kerala' 'Hubli' 'Udaipur' 'Lucknow' 'Karur'\n",
      " 'Panaji' 'Surat' 'SFO' 'London' 'Missourie' 'Boston' 'Varanasi' 'India'\n",
      " 'Nagpur' 'New York' 'Jodhpur' 'Belgaum' 'Seattle' 'US' 'Agra'\n",
      " 'Trivandrum' 'Kochi' 'Udupi' 'Gwalior' 'Bhopal' 'Siliguri' 'USA'\n",
      " 'Coimbatore' 'Kanpur' 'Singapore' 'Goa' 'Vadodara' 'Indore' 'Chandigarh'\n",
      " 'Kolkata' 'Jaipur' 'Ahmedabad' 'Chennai' 'Hyderabad' 'Noida' 'Pune'\n",
      " 'Gurgaon' 'New Delhi' 'Mumbai' 'Bangalore'] [  1   1   1   1   1   1   1   1   1   1   1   1   1   1   1   1   1   1\n",
      "   1   1   2   2   2   2   2   2   2   2   2   3   4   5   8   9   9  10\n",
      "  19  25  35  67  77  79  91 241 389 449 635]\n"
     ]
    }
   ],
   "source": [
    "np_x=np_x[np.argsort(np_y)]\n",
    "np_y=np.sort(np_y)\n",
    "print(np_x,np_y)"
   ]
  },
  {
   "cell_type": "code",
   "execution_count": 480,
   "metadata": {},
   "outputs": [],
   "source": [
    "np_x=np_x[len(np_x)-1:len(np_x)-1-10:-1]\n",
    "np_y=np_y[len(np_y)-1:len(np_y)-1-10:-1]"
   ]
  },
  {
   "cell_type": "code",
   "execution_count": 481,
   "metadata": {},
   "outputs": [
    {
     "name": "stdout",
     "output_type": "stream",
     "text": [
      "['Bangalore' 'Mumbai' 'New Delhi' 'Gurgaon' 'Pune' 'Noida' 'Hyderabad'\n",
      " 'Chennai' 'Ahmedabad' 'Jaipur'] [635 449 389 241  91  79  77  67  35  25]\n"
     ]
    }
   ],
   "source": [
    "print(np_x,np_y)"
   ]
  },
  {
   "cell_type": "code",
   "execution_count": 482,
   "metadata": {},
   "outputs": [
    {
     "data": {
      "text/plain": [
       "([<matplotlib.patches.Wedge at 0x159c9eb92d0>,\n",
       "  <matplotlib.patches.Wedge at 0x159c9eba350>,\n",
       "  <matplotlib.patches.Wedge at 0x159c9ebbf90>,\n",
       "  <matplotlib.patches.Wedge at 0x159c9ec9e90>,\n",
       "  <matplotlib.patches.Wedge at 0x159c9ecbc50>,\n",
       "  <matplotlib.patches.Wedge at 0x159c9ed59d0>,\n",
       "  <matplotlib.patches.Wedge at 0x159c9ed79d0>,\n",
       "  <matplotlib.patches.Wedge at 0x159c9edd790>,\n",
       "  <matplotlib.patches.Wedge at 0x159c9ecbd50>,\n",
       "  <matplotlib.patches.Wedge at 0x159c9eecfd0>],\n",
       " [Text(1.2699896737757506, 1.7964203930324782, 'Bangalore'),\n",
       "  Text(-1.8695546422498692, 1.1596402199139024, 'Mumbai'),\n",
       "  Text(-1.674611652165565, -1.426771114941467, 'New Delhi'),\n",
       "  Text(0.1818482494192129, -2.1924714853751617, 'Gurgaon'),\n",
       "  Text(1.2098415304265486, -1.8374665905140009, 'Pune'),\n",
       "  Text(1.6353615815366997, -1.4715952220749373, 'Noida'),\n",
       "  Text(1.9327655553732912, -1.0509126071955623, 'Hyderabad'),\n",
       "  Text(2.1134937160450855, -0.6108553938846224, 'Chennai'),\n",
       "  Text(2.1820329397050937, -0.28059267638687213, 'Ahmedabad'),\n",
       "  Text(2.1984438214408457, -0.08273308871650124, 'Jaipur')],\n",
       " [Text(0.6927216402413184, 0.9798656689268062, '30.41%'),\n",
       "  Text(-1.0197570775908378, 0.6325310290439466, '21.50%'),\n",
       "  Text(-0.9134245375448535, -0.7782387899680728, '18.63%'),\n",
       "  Text(0.09918995422866157, -1.195893537477361, '11.54%'),\n",
       "  Text(0.6599135620508446, -1.0022545039167277, '4.36%'),\n",
       "  Text(0.892015408110927, -0.8026883029499657, '3.78%'),\n",
       "  Text(1.0542357574763406, -0.5732250584703066, '3.69%'),\n",
       "  Text(1.15281475420641, -0.333193851209794, '3.21%'),\n",
       "  Text(1.1901997852936872, -0.1530505507564757, '1.68%'),\n",
       "  Text(1.1991511753313702, -0.04512713929990976, '1.20%')])"
      ]
     },
     "execution_count": 482,
     "metadata": {},
     "output_type": "execute_result"
    },
    {
     "data": {
      "image/png": "[encoded data removed]",
      "text/plain": [
       "<Figure size 640x480 with 1 Axes>"
      ]
     },
     "metadata": {},
     "output_type": "display_data"
    }
   ],
   "source": [
    "plt.pie(np_y,labels = np_x,autopct=\"%.2f%%\",radius = 2)"
   ]
  },
  {
   "cell_type": "code",
   "execution_count": 483,
   "metadata": {},
   "outputs": [
    {
     "data": {
      "text/html": [
       "<div>\n",
       "<style scoped>\n",
       "    .dataframe tbody tr th:only-of-type {\n",
       "        vertical-align: middle;\n",
       "    }\n",
       "\n",
       "    .dataframe tbody tr th {\n",
       "        vertical-align: top;\n",
       "    }\n",
       "\n",
       "    .dataframe thead th {\n",
       "        text-align: right;\n",
       "    }\n",
       "</style>\n",
       "<table border=\"1\" class=\"dataframe\">\n",
       "  <thead>\n",
       "    <tr style=\"text-align: right;\">\n",
       "      <th></th>\n",
       "      <th>City</th>\n",
       "      <th>No. Of Startups</th>\n",
       "    </tr>\n",
       "  </thead>\n",
       "  <tbody>\n",
       "    <tr>\n",
       "      <th>0</th>\n",
       "      <td>Bangalore</td>\n",
       "      <td>635</td>\n",
       "    </tr>\n",
       "    <tr>\n",
       "      <th>1</th>\n",
       "      <td>Mumbai</td>\n",
       "      <td>449</td>\n",
       "    </tr>\n",
       "    <tr>\n",
       "      <th>2</th>\n",
       "      <td>New Delhi</td>\n",
       "      <td>389</td>\n",
       "    </tr>\n",
       "    <tr>\n",
       "      <th>3</th>\n",
       "      <td>Gurgaon</td>\n",
       "      <td>241</td>\n",
       "    </tr>\n",
       "    <tr>\n",
       "      <th>4</th>\n",
       "      <td>Pune</td>\n",
       "      <td>91</td>\n",
       "    </tr>\n",
       "    <tr>\n",
       "      <th>5</th>\n",
       "      <td>Noida</td>\n",
       "      <td>79</td>\n",
       "    </tr>\n",
       "    <tr>\n",
       "      <th>6</th>\n",
       "      <td>Hyderabad</td>\n",
       "      <td>77</td>\n",
       "    </tr>\n",
       "    <tr>\n",
       "      <th>7</th>\n",
       "      <td>Chennai</td>\n",
       "      <td>67</td>\n",
       "    </tr>\n",
       "    <tr>\n",
       "      <th>8</th>\n",
       "      <td>Ahmedabad</td>\n",
       "      <td>35</td>\n",
       "    </tr>\n",
       "    <tr>\n",
       "      <th>9</th>\n",
       "      <td>Jaipur</td>\n",
       "      <td>25</td>\n",
       "    </tr>\n",
       "  </tbody>\n",
       "</table>\n",
       "</div>"
      ],
      "text/plain": [
       "        City  No. Of Startups\n",
       "0  Bangalore              635\n",
       "1     Mumbai              449\n",
       "2  New Delhi              389\n",
       "3    Gurgaon              241\n",
       "4       Pune               91\n",
       "5      Noida               79\n",
       "6  Hyderabad               77\n",
       "7    Chennai               67\n",
       "8  Ahmedabad               35\n",
       "9     Jaipur               25"
      ]
     },
     "execution_count": 483,
     "metadata": {},
     "output_type": "execute_result"
    }
   ],
   "source": [
    "li = list(zip(np_x,np_y))\n",
    "fundings = pd.DataFrame(li, columns = [\"City\", \"No. Of Startups\"])\n",
    "fundings"
   ]
  },
  {
   "cell_type": "code",
   "execution_count": 484,
   "metadata": {},
   "outputs": [],
   "source": [
    "test4 = df.copy()"
   ]
  },
  {
   "cell_type": "code",
   "execution_count": 485,
   "metadata": {},
   "outputs": [],
   "source": [
    "test4.loc[df.CityLocation=='bangalore','CityLocation']='Bangalore'\n",
    "test4.loc[df.CityLocation=='Delhi','CityLocation']='New Delhi'"
   ]
  },
  {
   "cell_type": "code",
   "execution_count": 486,
   "metadata": {},
   "outputs": [],
   "source": [
    "test4.loc[df.AmountInUSD.isnull(),'AmountInUSD'] = '0'"
   ]
  },
  {
   "cell_type": "code",
   "execution_count": 487,
   "metadata": {},
   "outputs": [],
   "source": [
    "city = []\n",
    "amount = []"
   ]
  },
  {
   "cell_type": "code",
   "execution_count": 488,
   "metadata": {},
   "outputs": [],
   "source": [
    "for i in test4['CityLocation']:\n",
    "    city.append(i)\n",
    "for i in test4['AmountInUSD']:\n",
    "    amount.append(i)"
   ]
  },
  {
   "cell_type": "code",
   "execution_count": 489,
   "metadata": {},
   "outputs": [],
   "source": [
    "for i in range(len(amount)):\n",
    "    amount[i]=''.join(amount[i].split(','))"
   ]
  },
  {
   "cell_type": "code",
   "execution_count": 490,
   "metadata": {},
   "outputs": [],
   "source": [
    "dic = dict()\n"
   ]
  },
  {
   "cell_type": "code",
   "execution_count": 491,
   "metadata": {},
   "outputs": [],
   "source": [
    "np_city = np.array(city)\n",
    "np_amount = np.array(amount,dtype = 'int64')\n",
    "#print(len(np_city))\n",
    "#print(len(np_amount))"
   ]
  },
  {
   "cell_type": "code",
   "execution_count": 492,
   "metadata": {},
   "outputs": [],
   "source": [
    "for i in range(len(np_city)) :\n",
    "        np_city[i]=np_city[i].split('/')[0].strip()"
   ]
  },
  {
   "cell_type": "code",
   "execution_count": 493,
   "metadata": {},
   "outputs": [
    {
     "name": "stdout",
     "output_type": "stream",
     "text": [
      "2372\n",
      "2372\n"
     ]
    }
   ],
   "source": [
    "print(len(np_city))\n",
    "print(len(np_amount))"
   ]
  },
  {
   "cell_type": "code",
   "execution_count": 494,
   "metadata": {},
   "outputs": [],
   "source": [
    "for i in range(0,len(np_city)):\n",
    "    if np_city[i] in dic:\n",
    "        dic[np_city[i]] += np_amount[i]\n",
    "    else:\n",
    "        dic[np_city[i]] = np_amount[i]\n",
    "    "
   ]
  },
  {
   "cell_type": "code",
   "execution_count": 495,
   "metadata": {},
   "outputs": [
    {
     "data": {
      "text/plain": [
       "{'Bangalore': 8422974108,\n",
       " 'Mumbai': 2354934500,\n",
       " 'New Delhi': 2818247500,\n",
       " 'Hyderabad': 195362000,\n",
       " 'Ahmedabad': 98186000,\n",
       " 'Gurgaon': 2069021500,\n",
       " 'Noida': 170638000,\n",
       " 'Pune': 366653000,\n",
       " 'Kolkata': 13865000,\n",
       " 'Trivandrum': 100000,\n",
       " 'Chennai': 411105000,\n",
       " 'Chandigarh': 26100000,\n",
       " 'Jaipur': 35560000,\n",
       " 'Vadodara': 6040000,\n",
       " 'Surat': 0,\n",
       " 'Missourie': 350000,\n",
       " 'Panaji': 825000,\n",
       " 'Gwalior': 900000,\n",
       " 'Karur': 0,\n",
       " 'Udupi': 12000000,\n",
       " 'Kochi': 0,\n",
       " 'Indore': 1672000,\n",
       " 'Singapore': 3850000,\n",
       " 'Goa': 2380000,\n",
       " 'Agra': 0,\n",
       " 'Hubli': 0,\n",
       " 'Kerala': 27000,\n",
       " 'Kozhikode': 0,\n",
       " 'US': 3000000,\n",
       " 'Coimbatore': 1650000,\n",
       " 'Siliguri': 0,\n",
       " 'nan': 1271863868,\n",
       " 'USA': 16600000,\n",
       " 'Lucknow': 1000000,\n",
       " 'Kanpur': 220000,\n",
       " 'SFO': 2700000,\n",
       " 'London': 0,\n",
       " 'Seattle': 0,\n",
       " 'Varanasi': 52000,\n",
       " 'Bhopal': 1900000,\n",
       " 'Jodhpur': 160000,\n",
       " 'Boston': 3000000,\n",
       " 'Belgaum': 500000,\n",
       " 'New York': 2950000,\n",
       " 'Nagpur': 0,\n",
       " 'India': 30000000,\n",
       " 'Udaipur': 0,\n",
       " 'Dallas': 1000000}"
      ]
     },
     "execution_count": 495,
     "metadata": {},
     "output_type": "execute_result"
    }
   ],
   "source": [
    "dic"
   ]
  },
  {
   "cell_type": "code",
   "execution_count": 496,
   "metadata": {},
   "outputs": [],
   "source": [
    "xaxis = []\n",
    "yaxis = []"
   ]
  },
  {
   "cell_type": "code",
   "execution_count": 497,
   "metadata": {},
   "outputs": [],
   "source": [
    "for i in dic:\n",
    "    xaxis.append(i)\n",
    "    yaxis.append(dic[i])"
   ]
  },
  {
   "cell_type": "code",
   "execution_count": 498,
   "metadata": {},
   "outputs": [],
   "source": [
    "npx = np.array(xaxis)\n",
    "npy = np.array(yaxis)"
   ]
  },
  {
   "cell_type": "code",
   "execution_count": 499,
   "metadata": {},
   "outputs": [],
   "source": [
    "npx = npx[np.argsort(npy)]\n",
    "npy = np.sort(npy)"
   ]
  },
  {
   "cell_type": "code",
   "execution_count": 500,
   "metadata": {},
   "outputs": [
    {
     "name": "stdout",
     "output_type": "stream",
     "text": [
      "['Bangalore' 'New Delhi' 'Mumbai' 'Gurgaon' 'nan' 'Chennai' 'Pune'\n",
      " 'Hyderabad' 'Noida' 'Ahmedabad']\n",
      "[8422974108 2818247500 2354934500 2069021500 1271863868  411105000\n",
      "  366653000  195362000  170638000   98186000]\n"
     ]
    }
   ],
   "source": [
    "npx = npx[len(npx)-1:len(npx)-1-10:-1]\n",
    "npy = npy[len(npy)-1:len(npy)-1-10:-1]\n",
    "print(npx)\n",
    "print(npy)"
   ]
  },
  {
   "cell_type": "code",
   "execution_count": 501,
   "metadata": {},
   "outputs": [
    {
     "data": {
      "text/plain": [
       "(array([0.e+00, 1.e+09, 2.e+09, 3.e+09, 4.e+09, 5.e+09, 6.e+09, 7.e+09,\n",
       "        8.e+09, 9.e+09]),\n",
       " [Text(0, 0.0, '0'),\n",
       "  Text(0, 1000000000.0, '1'),\n",
       "  Text(0, 2000000000.0, '2'),\n",
       "  Text(0, 3000000000.0, '3'),\n",
       "  Text(0, 4000000000.0, '4'),\n",
       "  Text(0, 5000000000.0, '5'),\n",
       "  Text(0, 6000000000.0, '6'),\n",
       "  Text(0, 7000000000.0, '7'),\n",
       "  Text(0, 8000000000.0, '8'),\n",
       "  Text(0, 9000000000.0, '9')])"
      ]
     },
     "execution_count": 501,
     "metadata": {},
     "output_type": "execute_result"
    },
    {
     "data": {
      "image/png": "[encoded data removed]",
      "text/plain": [
       "<Figure size 1500x1000 with 1 Axes>"
      ]
     },
     "metadata": {},
     "output_type": "display_data"
    }
   ],
   "source": [
    "plt.subplots(figsize=(15, 10))\n",
    "plt.bar(npx,npy)\n",
    "\n",
    "plt.xlabel(\"Funding-->\")\n",
    "plt.ylabel(\"City\")\n",
    "plt.xticks(rotation=45, size=16)\n",
    "plt.yticks(size=16)"
   ]
  },
  {
   "cell_type": "code",
   "execution_count": 502,
   "metadata": {},
   "outputs": [
    {
     "name": "stdout",
     "output_type": "stream",
     "text": [
      "Bangalore --> 46.33 Percent\n",
      "New Delhi --> 15.50 Percent\n",
      "Mumbai --> 12.95 Percent\n",
      "Gurgaon --> 11.38 Percent\n",
      "nan --> 7.00 Percent\n",
      "Chennai --> 2.26 Percent\n",
      "Pune --> 2.02 Percent\n",
      "Hyderabad --> 1.07 Percent\n",
      "Noida --> 0.94 Percent\n",
      "Ahmedabad --> 0.54 Percent\n"
     ]
    }
   ],
   "source": [
    "for i in range(len(npx)):\n",
    "    print(npx[i],'-->', format((npy[i]*100)/sum(npy), '.2f'), 'Percent')"
   ]
  },
  {
   "cell_type": "code",
   "execution_count": 503,
   "metadata": {},
   "outputs": [],
   "source": [
    "t5 = df.copy()"
   ]
  },
  {
   "cell_type": "code",
   "execution_count": 504,
   "metadata": {},
   "outputs": [],
   "source": [
    "t5.dropna(inplace = True, subset = ['InvestmentType'])\n",
    "t5.loc[t5.CityLocation=='bangalore','CityLocation']='Bangalore'\n",
    "t5.loc[t5.CityLocation=='Delhi','CityLocation']='New Delhi'\n",
    "\n",
    "t5.loc[t5.InvestmentType=='PrivateEquity', 'InvestmentType'] = 'Private Equity'\n",
    "t5.loc[t5.InvestmentType=='Crowd funding', 'InvestmentType'] = 'Crowd Funding'\n",
    "t5.loc[t5.InvestmentType=='SeedFunding', 'InvestmentType'] = 'Seed Funding'"
   ]
  },
  {
   "cell_type": "code",
   "execution_count": 505,
   "metadata": {},
   "outputs": [],
   "source": [
    "it = []"
   ]
  },
  {
   "cell_type": "code",
   "execution_count": 506,
   "metadata": {},
   "outputs": [],
   "source": [
    "for i in t5['InvestmentType']:\n",
    "    it.append(i)"
   ]
  },
  {
   "cell_type": "code",
   "execution_count": 507,
   "metadata": {},
   "outputs": [],
   "source": [
    "dic = dict()"
   ]
  },
  {
   "cell_type": "code",
   "execution_count": 508,
   "metadata": {},
   "outputs": [
    {
     "data": {
      "text/plain": [
       "{'Private Equity': 1067,\n",
       " 'Seed Funding': 1301,\n",
       " 'Debt Funding': 1,\n",
       " 'Crowd Funding': 2}"
      ]
     },
     "execution_count": 508,
     "metadata": {},
     "output_type": "execute_result"
    }
   ],
   "source": [
    "for i in it:\n",
    "    if i in dic.keys():\n",
    "        dic[i] += 1\n",
    "    else:\n",
    "        dic[i] = 1\n",
    "dic"
   ]
  },
  {
   "cell_type": "code",
   "execution_count": 509,
   "metadata": {},
   "outputs": [],
   "source": [
    "x = []\n",
    "y = []\n"
   ]
  },
  {
   "cell_type": "code",
   "execution_count": 510,
   "metadata": {},
   "outputs": [],
   "source": [
    "for i in dic:\n",
    "    x.append(i)\n",
    "    y.append(dic[i])\n",
    "    "
   ]
  },
  {
   "cell_type": "code",
   "execution_count": 511,
   "metadata": {},
   "outputs": [
    {
     "name": "stdout",
     "output_type": "stream",
     "text": [
      "['Private Equity', 'Seed Funding', 'Debt Funding', 'Crowd Funding'] [1067, 1301, 1, 2]\n"
     ]
    }
   ],
   "source": [
    "print(x,y)"
   ]
  },
  {
   "cell_type": "code",
   "execution_count": 512,
   "metadata": {},
   "outputs": [],
   "source": [
    "npx = np.array(x)\n",
    "npy = np.array(y)"
   ]
  },
  {
   "cell_type": "code",
   "execution_count": 513,
   "metadata": {},
   "outputs": [],
   "source": [
    "npx = npx[np.argsort(npy)]\n",
    "npy = np.sort(npy)"
   ]
  },
  {
   "cell_type": "code",
   "execution_count": 514,
   "metadata": {},
   "outputs": [
    {
     "name": "stdout",
     "output_type": "stream",
     "text": [
      "['Debt Funding' 'Crowd Funding' 'Private Equity' 'Seed Funding'] [   1    2 1067 1301]\n"
     ]
    }
   ],
   "source": [
    "print(npx,npy)"
   ]
  },
  {
   "cell_type": "code",
   "execution_count": 515,
   "metadata": {},
   "outputs": [
    {
     "name": "stdout",
     "output_type": "stream",
     "text": [
      "['Seed Funding' 'Private Equity' 'Crowd Funding' 'Debt Funding'] [1301 1067    2    1]\n"
     ]
    }
   ],
   "source": [
    "npy = npy[::-1]\n",
    "npx = npx[::-1]\n",
    "print(npx,npy)"
   ]
  },
  {
   "cell_type": "code",
   "execution_count": 516,
   "metadata": {},
   "outputs": [
    {
     "data": {
      "text/plain": [
       "([<matplotlib.patches.Wedge at 0x159cbfc7f90>,\n",
       "  <matplotlib.patches.Wedge at 0x159cbfdcd90>,\n",
       "  <matplotlib.patches.Wedge at 0x159cbfde310>,\n",
       "  <matplotlib.patches.Wedge at 0x159cbfdfed0>],\n",
       " [Text(-0.16768585382691156, 1.0871437137868847, 'Seed Funding'),\n",
       "  Text(0.1633631250323682, -1.0878016774116774, 'Private Equity'),\n",
       "  Text(1.9999719098499842, -0.010599991085218158, 'Crowd Funding'),\n",
       "  Text(1.9999982443803068, -0.0026499954132951893, 'Debt Funding')],\n",
       " [Text(-0.09146501117831539, 0.5929874802473916, '54.87%'),\n",
       "  Text(0.08910715910856447, -0.5933463694972785, '45.00%'),\n",
       "  Text(1.4999789323874881, -0.007949993313913618, '0.08%'),\n",
       "  Text(1.4999986832852301, -0.0019874965599713922, '0.04%')])"
      ]
     },
     "execution_count": 516,
     "metadata": {},
     "output_type": "execute_result"
    },
    {
     "data": {
      "image/png": "[encoded data removed]",
      "text/plain": [
       "<Figure size 640x480 with 1 Axes>"
      ]
     },
     "metadata": {},
     "output_type": "display_data"
    }
   ],
   "source": [
    "plt.pie(npy,labels = npx,autopct=\"%.2f%%\",explode = [0,0,0.9,0.9])"
   ]
  },
  {
   "cell_type": "code",
   "execution_count": null,
   "metadata": {},
   "outputs": [],
   "source": []
  }
 ],
 "metadata": {
  "kernelspec": {
   "display_name": "Python 3 (ipykernel)",
   "language": "python",
   "name": "python3"
  },
  "language_info": {
   "codemirror_mode": {
    "name": "ipython",
    "version": 3
   },
   "file_extension": ".py",
   "mimetype": "text/x-python",
   "name": "python",
   "nbconvert_exporter": "python",
   "pygments_lexer": "ipython3",
   "version": "3.11.5"
  }
 },
 "nbformat": 4,
 "nbformat_minor": 2
}
