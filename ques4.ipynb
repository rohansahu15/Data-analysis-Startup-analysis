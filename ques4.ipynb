{
 "cells": [
  {
   "cell_type": "code",
   "execution_count": 1,
   "id": "fc73cd80",
   "metadata": {},
   "outputs": [],
   "source": [
    "import numpy as np\n",
    "import pandas as pd\n",
    "import matplotlib.pyplot as plt\n",
    "import csv\n",
    "import operator"
   ]
  },
  {
   "cell_type": "code",
   "execution_count": 2,
   "id": "59092a32",
   "metadata": {},
   "outputs": [],
   "source": [
    "path = 'startup_funding.csv'"
   ]
  },
  {
   "cell_type": "code",
   "execution_count": 3,
   "id": "9078249b",
   "metadata": {},
   "outputs": [],
   "source": [
    "df = pd.read_csv(path)"
   ]
  },
  {
   "cell_type": "code",
   "execution_count": 4,
   "id": "69639ba6",
   "metadata": {},
   "outputs": [
    {
     "data": {
      "text/html": [
       "<div>\n",
       "<style scoped>\n",
       "    .dataframe tbody tr th:only-of-type {\n",
       "        vertical-align: middle;\n",
       "    }\n",
       "\n",
       "    .dataframe tbody tr th {\n",
       "        vertical-align: top;\n",
       "    }\n",
       "\n",
       "    .dataframe thead th {\n",
       "        text-align: right;\n",
       "    }\n",
       "</style>\n",
       "<table border=\"1\" class=\"dataframe\">\n",
       "  <thead>\n",
       "    <tr style=\"text-align: right;\">\n",
       "      <th></th>\n",
       "      <th>SNo</th>\n",
       "      <th>Date</th>\n",
       "      <th>StartupName</th>\n",
       "      <th>IndustryVertical</th>\n",
       "      <th>SubVertical</th>\n",
       "      <th>CityLocation</th>\n",
       "      <th>InvestorsName</th>\n",
       "      <th>InvestmentType</th>\n",
       "      <th>AmountInUSD</th>\n",
       "      <th>Remarks</th>\n",
       "    </tr>\n",
       "  </thead>\n",
       "  <tbody>\n",
       "    <tr>\n",
       "      <th>0</th>\n",
       "      <td>0</td>\n",
       "      <td>01/08/2017</td>\n",
       "      <td>TouchKin</td>\n",
       "      <td>Technology</td>\n",
       "      <td>Predictive Care Platform</td>\n",
       "      <td>Bangalore</td>\n",
       "      <td>Kae Capital</td>\n",
       "      <td>Private Equity</td>\n",
       "      <td>1,300,000</td>\n",
       "      <td>NaN</td>\n",
       "    </tr>\n",
       "    <tr>\n",
       "      <th>1</th>\n",
       "      <td>1</td>\n",
       "      <td>02/08/2017</td>\n",
       "      <td>Ethinos</td>\n",
       "      <td>Technology</td>\n",
       "      <td>Digital Marketing Agency</td>\n",
       "      <td>Mumbai</td>\n",
       "      <td>Triton Investment Advisors</td>\n",
       "      <td>Private Equity</td>\n",
       "      <td>NaN</td>\n",
       "      <td>NaN</td>\n",
       "    </tr>\n",
       "    <tr>\n",
       "      <th>2</th>\n",
       "      <td>2</td>\n",
       "      <td>02/08/2017</td>\n",
       "      <td>Leverage Edu</td>\n",
       "      <td>Consumer Internet</td>\n",
       "      <td>Online platform for Higher Education Services</td>\n",
       "      <td>New Delhi</td>\n",
       "      <td>Kashyap Deorah, Anand Sankeshwar, Deepak Jain,...</td>\n",
       "      <td>Seed Funding</td>\n",
       "      <td>NaN</td>\n",
       "      <td>NaN</td>\n",
       "    </tr>\n",
       "    <tr>\n",
       "      <th>3</th>\n",
       "      <td>3</td>\n",
       "      <td>02/08/2017</td>\n",
       "      <td>Zepo</td>\n",
       "      <td>Consumer Internet</td>\n",
       "      <td>DIY Ecommerce platform</td>\n",
       "      <td>Mumbai</td>\n",
       "      <td>Kunal Shah, LetsVenture, Anupam Mittal, Hetal ...</td>\n",
       "      <td>Seed Funding</td>\n",
       "      <td>500,000</td>\n",
       "      <td>NaN</td>\n",
       "    </tr>\n",
       "    <tr>\n",
       "      <th>4</th>\n",
       "      <td>4</td>\n",
       "      <td>02/08/2017</td>\n",
       "      <td>Click2Clinic</td>\n",
       "      <td>Consumer Internet</td>\n",
       "      <td>healthcare service aggregator</td>\n",
       "      <td>Hyderabad</td>\n",
       "      <td>Narottam Thudi, Shireesh Palle</td>\n",
       "      <td>Seed Funding</td>\n",
       "      <td>850,000</td>\n",
       "      <td>NaN</td>\n",
       "    </tr>\n",
       "    <tr>\n",
       "      <th>...</th>\n",
       "      <td>...</td>\n",
       "      <td>...</td>\n",
       "      <td>...</td>\n",
       "      <td>...</td>\n",
       "      <td>...</td>\n",
       "      <td>...</td>\n",
       "      <td>...</td>\n",
       "      <td>...</td>\n",
       "      <td>...</td>\n",
       "      <td>...</td>\n",
       "    </tr>\n",
       "    <tr>\n",
       "      <th>2367</th>\n",
       "      <td>2367</td>\n",
       "      <td>29/01/2015</td>\n",
       "      <td>Printvenue</td>\n",
       "      <td>NaN</td>\n",
       "      <td>NaN</td>\n",
       "      <td>NaN</td>\n",
       "      <td>Asia Pacific Internet Group</td>\n",
       "      <td>Private Equity</td>\n",
       "      <td>4,500,000</td>\n",
       "      <td>NaN</td>\n",
       "    </tr>\n",
       "    <tr>\n",
       "      <th>2368</th>\n",
       "      <td>2368</td>\n",
       "      <td>29/01/2015</td>\n",
       "      <td>Graphene</td>\n",
       "      <td>NaN</td>\n",
       "      <td>NaN</td>\n",
       "      <td>NaN</td>\n",
       "      <td>KARSEMVEN Fund</td>\n",
       "      <td>Private Equity</td>\n",
       "      <td>825,000</td>\n",
       "      <td>Govt backed VC Fund</td>\n",
       "    </tr>\n",
       "    <tr>\n",
       "      <th>2369</th>\n",
       "      <td>2369</td>\n",
       "      <td>30/01/2015</td>\n",
       "      <td>Mad Street Den</td>\n",
       "      <td>NaN</td>\n",
       "      <td>NaN</td>\n",
       "      <td>NaN</td>\n",
       "      <td>Exfinity Fund, GrowX Ventures.</td>\n",
       "      <td>Private Equity</td>\n",
       "      <td>1,500,000</td>\n",
       "      <td>NaN</td>\n",
       "    </tr>\n",
       "    <tr>\n",
       "      <th>2370</th>\n",
       "      <td>2370</td>\n",
       "      <td>30/01/2015</td>\n",
       "      <td>Simplotel</td>\n",
       "      <td>NaN</td>\n",
       "      <td>NaN</td>\n",
       "      <td>NaN</td>\n",
       "      <td>MakeMyTrip</td>\n",
       "      <td>Private Equity</td>\n",
       "      <td>NaN</td>\n",
       "      <td>Strategic Funding, Minority stake</td>\n",
       "    </tr>\n",
       "    <tr>\n",
       "      <th>2371</th>\n",
       "      <td>2371</td>\n",
       "      <td>31/01/2015</td>\n",
       "      <td>couponmachine.in</td>\n",
       "      <td>NaN</td>\n",
       "      <td>NaN</td>\n",
       "      <td>NaN</td>\n",
       "      <td>UK based Group of Angel Investors</td>\n",
       "      <td>Seed Funding</td>\n",
       "      <td>140,000</td>\n",
       "      <td>NaN</td>\n",
       "    </tr>\n",
       "  </tbody>\n",
       "</table>\n",
       "<p>2372 rows × 10 columns</p>\n",
       "</div>"
      ],
      "text/plain": [
       "       SNo        Date       StartupName   IndustryVertical  \\\n",
       "0        0  01/08/2017          TouchKin         Technology   \n",
       "1        1  02/08/2017           Ethinos         Technology   \n",
       "2        2  02/08/2017      Leverage Edu  Consumer Internet   \n",
       "3        3  02/08/2017              Zepo  Consumer Internet   \n",
       "4        4  02/08/2017      Click2Clinic  Consumer Internet   \n",
       "...    ...         ...               ...                ...   \n",
       "2367  2367  29/01/2015        Printvenue                NaN   \n",
       "2368  2368  29/01/2015          Graphene                NaN   \n",
       "2369  2369  30/01/2015    Mad Street Den                NaN   \n",
       "2370  2370  30/01/2015         Simplotel                NaN   \n",
       "2371  2371  31/01/2015  couponmachine.in                NaN   \n",
       "\n",
       "                                        SubVertical CityLocation  \\\n",
       "0                          Predictive Care Platform    Bangalore   \n",
       "1                          Digital Marketing Agency       Mumbai   \n",
       "2     Online platform for Higher Education Services    New Delhi   \n",
       "3                            DIY Ecommerce platform       Mumbai   \n",
       "4                     healthcare service aggregator    Hyderabad   \n",
       "...                                             ...          ...   \n",
       "2367                                            NaN          NaN   \n",
       "2368                                            NaN          NaN   \n",
       "2369                                            NaN          NaN   \n",
       "2370                                            NaN          NaN   \n",
       "2371                                            NaN          NaN   \n",
       "\n",
       "                                          InvestorsName  InvestmentType  \\\n",
       "0                                           Kae Capital  Private Equity   \n",
       "1                            Triton Investment Advisors  Private Equity   \n",
       "2     Kashyap Deorah, Anand Sankeshwar, Deepak Jain,...    Seed Funding   \n",
       "3     Kunal Shah, LetsVenture, Anupam Mittal, Hetal ...    Seed Funding   \n",
       "4                        Narottam Thudi, Shireesh Palle    Seed Funding   \n",
       "...                                                 ...             ...   \n",
       "2367                        Asia Pacific Internet Group  Private Equity   \n",
       "2368                                     KARSEMVEN Fund  Private Equity   \n",
       "2369                     Exfinity Fund, GrowX Ventures.  Private Equity   \n",
       "2370                                         MakeMyTrip  Private Equity   \n",
       "2371                  UK based Group of Angel Investors    Seed Funding   \n",
       "\n",
       "     AmountInUSD                            Remarks  \n",
       "0      1,300,000                                NaN  \n",
       "1            NaN                                NaN  \n",
       "2            NaN                                NaN  \n",
       "3        500,000                                NaN  \n",
       "4        850,000                                NaN  \n",
       "...          ...                                ...  \n",
       "2367   4,500,000                                NaN  \n",
       "2368     825,000                Govt backed VC Fund  \n",
       "2369   1,500,000                                NaN  \n",
       "2370         NaN  Strategic Funding, Minority stake  \n",
       "2371     140,000                                NaN  \n",
       "\n",
       "[2372 rows x 10 columns]"
      ]
     },
     "execution_count": 4,
     "metadata": {},
     "output_type": "execute_result"
    }
   ],
   "source": [
    "test4 = df.copy()\n",
    "test4"
   ]
  },
  {
   "cell_type": "code",
   "execution_count": 5,
   "id": "df113cc5",
   "metadata": {},
   "outputs": [],
   "source": [
    "test4.loc[df.CityLocation=='bangalore','CityLocation']='Bangalore'\n",
    "test4.loc[df.CityLocation=='Delhi','CityLocation']='New Delhi'"
   ]
  },
  {
   "cell_type": "code",
   "execution_count": 6,
   "id": "e58058cd",
   "metadata": {},
   "outputs": [],
   "source": [
    "test4.loc[df.AmountInUSD.isnull(),'AmountInUSD'] = '0'"
   ]
  },
  {
   "cell_type": "code",
   "execution_count": 7,
   "id": "46fba8c8",
   "metadata": {},
   "outputs": [],
   "source": [
    "city = []\n",
    "amount = []"
   ]
  },
  {
   "cell_type": "code",
   "execution_count": 8,
   "id": "4a1b2ad7",
   "metadata": {},
   "outputs": [],
   "source": [
    "for i in test4['CityLocation']:\n",
    "    city.append(i)\n",
    "for i in test4['AmountInUSD']:\n",
    "    amount.append(i)"
   ]
  },
  {
   "cell_type": "code",
   "execution_count": 9,
   "id": "998cc6c0",
   "metadata": {},
   "outputs": [],
   "source": [
    "for i in range(len(amount)):\n",
    "    amount[i]=''.join(amount[i].split(','))"
   ]
  },
  {
   "cell_type": "code",
   "execution_count": 10,
   "id": "b9ae1bc8",
   "metadata": {},
   "outputs": [],
   "source": [
    "dic = dict()\n"
   ]
  },
  {
   "cell_type": "code",
   "execution_count": 11,
   "id": "dbd87a29",
   "metadata": {},
   "outputs": [],
   "source": [
    "np_city = np.array(city)\n",
    "np_amount = np.array(amount,dtype = 'int64')\n",
    "#print(len(np_city))\n",
    "#print(len(np_amount))"
   ]
  },
  {
   "cell_type": "code",
   "execution_count": 12,
   "id": "c4f3cf87",
   "metadata": {},
   "outputs": [],
   "source": [
    "for i in range(len(np_city)) :\n",
    "        np_city[i]=np_city[i].split('/')[0].strip()"
   ]
  },
  {
   "cell_type": "code",
   "execution_count": 13,
   "id": "da45ee2b",
   "metadata": {},
   "outputs": [
    {
     "name": "stdout",
     "output_type": "stream",
     "text": [
      "2372\n",
      "2372\n"
     ]
    }
   ],
   "source": [
    "print(len(np_city))\n",
    "print(len(np_amount))"
   ]
  },
  {
   "cell_type": "code",
   "execution_count": 14,
   "id": "9924eff3",
   "metadata": {},
   "outputs": [],
   "source": [
    "for i in range(0,len(np_city)):\n",
    "    if np_city[i] in dic:\n",
    "        dic[np_city[i]] += np_amount[i]\n",
    "    else:\n",
    "        dic[np_city[i]] = np_amount[i]\n",
    "    "
   ]
  },
  {
   "cell_type": "code",
   "execution_count": 15,
   "id": "d262afdd",
   "metadata": {},
   "outputs": [
    {
     "data": {
      "text/plain": [
       "{'Bangalore': 8422974108,\n",
       " 'Mumbai': 2354934500,\n",
       " 'New Delhi': 2818247500,\n",
       " 'Hyderabad': 195362000,\n",
       " 'Ahmedabad': 98186000,\n",
       " 'Gurgaon': 2069021500,\n",
       " 'Noida': 170638000,\n",
       " 'Pune': 366653000,\n",
       " 'Kolkata': 13865000,\n",
       " 'Trivandrum': 100000,\n",
       " 'Chennai': 411105000,\n",
       " 'Chandigarh': 26100000,\n",
       " 'Jaipur': 35560000,\n",
       " 'Vadodara': 6040000,\n",
       " 'Surat': 0,\n",
       " 'Missourie': 350000,\n",
       " 'Panaji': 825000,\n",
       " 'Gwalior': 900000,\n",
       " 'Karur': 0,\n",
       " 'Udupi': 12000000,\n",
       " 'Kochi': 0,\n",
       " 'Indore': 1672000,\n",
       " 'Singapore': 3850000,\n",
       " 'Goa': 2380000,\n",
       " 'Agra': 0,\n",
       " 'Hubli': 0,\n",
       " 'Kerala': 27000,\n",
       " 'Kozhikode': 0,\n",
       " 'US': 3000000,\n",
       " 'Coimbatore': 1650000,\n",
       " 'Siliguri': 0,\n",
       " 'nan': 1271863868,\n",
       " 'USA': 16600000,\n",
       " 'Lucknow': 1000000,\n",
       " 'Kanpur': 220000,\n",
       " 'SFO': 2700000,\n",
       " 'London': 0,\n",
       " 'Seattle': 0,\n",
       " 'Varanasi': 52000,\n",
       " 'Bhopal': 1900000,\n",
       " 'Jodhpur': 160000,\n",
       " 'Boston': 3000000,\n",
       " 'Belgaum': 500000,\n",
       " 'New York': 2950000,\n",
       " 'Nagpur': 0,\n",
       " 'India': 30000000,\n",
       " 'Udaipur': 0,\n",
       " 'Dallas': 1000000}"
      ]
     },
     "execution_count": 15,
     "metadata": {},
     "output_type": "execute_result"
    }
   ],
   "source": [
    "dic"
   ]
  },
  {
   "cell_type": "code",
   "execution_count": 16,
   "id": "c05689c5",
   "metadata": {},
   "outputs": [],
   "source": [
    "xaxis = []\n",
    "yaxis = []"
   ]
  },
  {
   "cell_type": "code",
   "execution_count": 19,
   "id": "7246d3de",
   "metadata": {},
   "outputs": [],
   "source": [
    "for i in dic:\n",
    "    xaxis.append(i)\n",
    "    yaxis.append(dic[i])"
   ]
  },
  {
   "cell_type": "code",
   "execution_count": 21,
   "id": "18d0147c",
   "metadata": {},
   "outputs": [],
   "source": [
    "npx = np.array(xaxis)\n",
    "npy = np.array(yaxis)"
   ]
  },
  {
   "cell_type": "code",
   "execution_count": 22,
   "id": "ecc119a4",
   "metadata": {},
   "outputs": [],
   "source": [
    "npx = npx[np.argsort(npy)]\n",
    "npy = np.sort(npy)"
   ]
  },
  {
   "cell_type": "code",
   "execution_count": 24,
   "id": "84ce5962",
   "metadata": {},
   "outputs": [
    {
     "name": "stdout",
     "output_type": "stream",
     "text": [
      "['Bangalore' 'New Delhi' 'Mumbai' 'Gurgaon' 'nan' 'Chennai' 'Pune'\n",
      " 'Hyderabad' 'Noida' 'Ahmedabad']\n",
      "[8422974108 2818247500 2354934500 2069021500 1271863868  411105000\n",
      "  366653000  195362000  170638000   98186000]\n"
     ]
    }
   ],
   "source": [
    "npx = npx[len(npx)-1:len(npx)-1-10:-1]\n",
    "npy = npy[len(npy)-1:len(npy)-1-10:-1]\n",
    "print(npx)\n",
    "print(npy)"
   ]
  },
  {
   "cell_type": "code",
   "execution_count": 31,
   "id": "19aaad41",
   "metadata": {},
   "outputs": [
    {
     "data": {
      "text/plain": [
       "(array([0.e+00, 1.e+09, 2.e+09, 3.e+09, 4.e+09, 5.e+09, 6.e+09, 7.e+09,\n",
       "        8.e+09, 9.e+09]),\n",
       " [Text(0, 0.0, '0'),\n",
       "  Text(0, 1000000000.0, '1'),\n",
       "  Text(0, 2000000000.0, '2'),\n",
       "  Text(0, 3000000000.0, '3'),\n",
       "  Text(0, 4000000000.0, '4'),\n",
       "  Text(0, 5000000000.0, '5'),\n",
       "  Text(0, 6000000000.0, '6'),\n",
       "  Text(0, 7000000000.0, '7'),\n",
       "  Text(0, 8000000000.0, '8'),\n",
       "  Text(0, 9000000000.0, '9')])"
      ]
     },
     "execution_count": 31,
     "metadata": {},
     "output_type": "execute_result"
    },
    {
     "data": {
      "image/png": "[encoded data removed]",
      "text/plain": [
       "<Figure size 1500x1000 with 1 Axes>"
      ]
     },
     "metadata": {},
     "output_type": "display_data"
    }
   ],
   "source": [
    "plt.subplots(figsize=(15, 10))\n",
    "plt.bar(npx,npy)\n",
    "\n",
    "plt.xlabel(\"Funding-->\")\n",
    "plt.ylabel(\"City\")\n",
    "plt.xticks(rotation=45, size=16)\n",
    "plt.yticks(size=16)"
   ]
  },
  {
   "cell_type": "code",
   "execution_count": 33,
   "id": "a84ffed3",
   "metadata": {},
   "outputs": [
    {
     "name": "stdout",
     "output_type": "stream",
     "text": [
      "Bangalore --> 46.33 Percent\n",
      "New Delhi --> 15.50 Percent\n",
      "Mumbai --> 12.95 Percent\n",
      "Gurgaon --> 11.38 Percent\n",
      "nan --> 7.00 Percent\n",
      "Chennai --> 2.26 Percent\n",
      "Pune --> 2.02 Percent\n",
      "Hyderabad --> 1.07 Percent\n",
      "Noida --> 0.94 Percent\n",
      "Ahmedabad --> 0.54 Percent\n"
     ]
    }
   ],
   "source": [
    "for i in range(len(npx)):\n",
    "    print(npx[i],'-->', format((npy[i]*100)/sum(npy), '.2f'), 'Percent')"
   ]
  },
  {
   "cell_type": "code",
   "execution_count": null,
   "id": "03fe0acb",
   "metadata": {},
   "outputs": [],
   "source": []
  }
 ],
 "metadata": {
  "kernelspec": {
   "display_name": "Python 3 (ipykernel)",
   "language": "python",
   "name": "python3"
  },
  "language_info": {
   "codemirror_mode": {
    "name": "ipython",
    "version": 3
   },
   "file_extension": ".py",
   "mimetype": "text/x-python",
   "name": "python",
   "nbconvert_exporter": "python",
   "pygments_lexer": "ipython3",
   "version": "3.11.5"
  }
 },
 "nbformat": 4,
 "nbformat_minor": 5
}
